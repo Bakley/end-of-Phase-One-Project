{
 "cells": [
  {
   "cell_type": "markdown",
   "metadata": {},
   "source": [
    "\n",
    "# <span style=\"color: #1f77b4;\">Phase 1 Project: Aviation Safety Analysis</span>\n",
    "\n",
    "This notebook analyzes the NTSB aviation accident dataset (1962–2023, filtered to 2010–2023) to identify low-risk aircraft for a company expanding into commercial and private aviation. \n",
    "\n",
    "The goal is to provide <span style=\"color: #2ca02c;\">data-driven recommendations</span> to the head of the aviation division, supported by visualizations, and an interactive Tableau dashboard."
   ]
  },
  {
   "cell_type": "code",
   "execution_count": 1,
   "metadata": {},
   "outputs": [],
   "source": [
    "# Import libraries\n",
    "import pandas as pd\n",
    "import matplotlib.pyplot as plt\n",
    "import seaborn as sns\n",
    "from datetime import datetime\n",
    "from IPython.display import display, HTML, Markdown"
   ]
  },
  {
   "cell_type": "code",
   "execution_count": 2,
   "metadata": {},
   "outputs": [
    {
     "data": {
      "text/html": [
       "\n",
       "<style>\n",
       "    @import url('https://fonts.googleapis.com/css2?family=Poppins:wght@300;400;500;600;700&display=swap');\n",
       "    \n",
       "    body {\n",
       "        font-family: 'Poppins', sans-serif !important;\n",
       "        line-height: 1.6;\n",
       "    }\n",
       "    \n",
       "    .monalisa-header {\n",
       "        font-family: 'Poppins', sans-serif;\n",
       "        color: #1a5276;\n",
       "        font-weight: 600;\n",
       "        letter-spacing: 0.5px;\n",
       "        margin-bottom: 15px;\n",
       "        border-bottom: 2px solid #f5b041;\n",
       "        padding-bottom: 5px;\n",
       "    }\n",
       "    \n",
       "    .monalisa-highlight {\n",
       "        font-family: 'Poppins', sans-serif;\n",
       "        color: #27ae60;\n",
       "        font-weight: 500;\n",
       "        background-color: #f9f9f9;\n",
       "        padding: 8px 12px;\n",
       "        border-radius: 4px;\n",
       "        margin: 5px 0;\n",
       "    }\n",
       "    \n",
       "    .monalisa-warning {\n",
       "        font-family: 'Poppins', sans-serif;\n",
       "        color: #e67e22;\n",
       "        font-weight: 500;\n",
       "        background-color: #fef5e7;\n",
       "        padding: 8px 12px;\n",
       "        border-radius: 4px;\n",
       "        margin: 5px 0;\n",
       "    }\n",
       "    \n",
       "    .monalisa-error {\n",
       "        font-family: 'Poppins', sans-serif;\n",
       "        color: #e74c3c;\n",
       "        font-weight: 500;\n",
       "        background-color: #fdedec;\n",
       "        padding: 8px 12px;\n",
       "        border-radius: 4px;\n",
       "        margin: 5px 0;\n",
       "    }\n",
       "    \n",
       "    .dataframe {\n",
       "        font-family: 'Poppins', sans-serif !important;\n",
       "        border-radius: 8px !important;\n",
       "        box-shadow: 0 4px 6px rgba(0,0,0,0.1) !important;\n",
       "    }\n",
       "    \n",
       "    .monalisa-quote {\n",
       "        font-family: 'Poppins', sans-serif;\n",
       "        font-style: italic;\n",
       "        color: #5d6d7e;\n",
       "        border-left: 4px solid #aed6f1;\n",
       "        padding-left: 15px;\n",
       "        margin: 15px 0;\n",
       "    }\n",
       "</style>\n"
      ],
      "text/plain": [
       "<IPython.core.display.HTML object>"
      ]
     },
     "metadata": {},
     "output_type": "display_data"
    }
   ],
   "source": [
    "# Initialize color text \n",
    "display(HTML(\"\"\"\n",
    "<style>\n",
    "    @import url('https://fonts.googleapis.com/css2?family=Poppins:wght@300;400;500;600;700&display=swap');\n",
    "    \n",
    "    body {\n",
    "        font-family: 'Poppins', sans-serif !important;\n",
    "        line-height: 1.6;\n",
    "    }\n",
    "    \n",
    "    .monalisa-header {\n",
    "        font-family: 'Poppins', sans-serif;\n",
    "        color: #1a5276;\n",
    "        font-weight: 600;\n",
    "        letter-spacing: 0.5px;\n",
    "        margin-bottom: 15px;\n",
    "        border-bottom: 2px solid #f5b041;\n",
    "        padding-bottom: 5px;\n",
    "    }\n",
    "    \n",
    "    .monalisa-highlight {\n",
    "        font-family: 'Poppins', sans-serif;\n",
    "        color: #27ae60;\n",
    "        font-weight: 500;\n",
    "        background-color: #f9f9f9;\n",
    "        padding: 8px 12px;\n",
    "        border-radius: 4px;\n",
    "        margin: 5px 0;\n",
    "    }\n",
    "    \n",
    "    .monalisa-warning {\n",
    "        font-family: 'Poppins', sans-serif;\n",
    "        color: #e67e22;\n",
    "        font-weight: 500;\n",
    "        background-color: #fef5e7;\n",
    "        padding: 8px 12px;\n",
    "        border-radius: 4px;\n",
    "        margin: 5px 0;\n",
    "    }\n",
    "    \n",
    "    .monalisa-error {\n",
    "        font-family: 'Poppins', sans-serif;\n",
    "        color: #e74c3c;\n",
    "        font-weight: 500;\n",
    "        background-color: #fdedec;\n",
    "        padding: 8px 12px;\n",
    "        border-radius: 4px;\n",
    "        margin: 5px 0;\n",
    "    }\n",
    "    \n",
    "    .dataframe {\n",
    "        font-family: 'Poppins', sans-serif !important;\n",
    "        border-radius: 8px !important;\n",
    "        box-shadow: 0 4px 6px rgba(0,0,0,0.1) !important;\n",
    "    }\n",
    "    \n",
    "    .monalisa-quote {\n",
    "        font-family: 'Poppins', sans-serif;\n",
    "        font-style: italic;\n",
    "        color: #5d6d7e;\n",
    "        border-left: 4px solid #aed6f1;\n",
    "        padding-left: 15px;\n",
    "        margin: 15px 0;\n",
    "    }\n",
    "</style>\n",
    "\"\"\"))\n",
    "\n",
    "def display_header(text, level=2):\n",
    "    display(HTML(f'<h{level} class=\"monalisa-header\">{text}</h{level}>'))\n",
    "\n",
    "def display_highlight(text):\n",
    "    display(HTML(f'<div class=\"monalisa-highlight\">{text}</div>'))\n",
    "\n",
    "def display_warning(text):\n",
    "    display(HTML(f'<div class=\"monalisa-warning\">{text}</div>'))\n",
    "\n",
    "def display_error(text):\n",
    "    display(HTML(f'<div class=\"monalisa-error\">{text}</div>'))\n",
    "\n",
    "def display_quote(text):\n",
    "    display(HTML(f'<div class=\"monalisa-quote\">{text}</div>'))"
   ]
  },
  {
   "cell_type": "code",
   "execution_count": 3,
   "metadata": {},
   "outputs": [],
   "source": [
    "# Set plot style for clear, professional visuals\n",
    "plt.style.use('seaborn')\n",
    "sns.set_palette('muted')\n",
    "\n",
    "# Configure matplotlib with Poppins\n",
    "plt.rcParams['font.family'] = 'Poppins'\n",
    "plt.rcParams['font.weight'] = 'medium'\n",
    "plt.rcParams['axes.labelweight'] = 'medium'\n",
    "plt.rcParams['axes.titleweight'] = 'bold'\n",
    "plt.rcParams['axes.titlepad'] = 15\n",
    "\n",
    "\n",
    "# Set beautiful plot style\n",
    "sns.set_style(\"whitegrid\", {\n",
    "    'font.family': 'Poppins',\n",
    "    'grid.linestyle': ':',\n",
    "    'axes.edgecolor': '0.8'\n",
    "})\n",
    "sns.set_palette(\"husl\")"
   ]
  },
  {
   "cell_type": "code",
   "execution_count": 4,
   "metadata": {},
   "outputs": [
    {
     "data": {
      "text/html": [
       "<div class=\"monalisa-highlight\">✓ Data successfully loaded with 88,889 records</div>"
      ],
      "text/plain": [
       "<IPython.core.display.HTML object>"
      ]
     },
     "metadata": {},
     "output_type": "display_data"
    }
   ],
   "source": [
    "# Load the NTSB dataset 'aviation_data.csv' \n",
    "try:\n",
    "    df = pd.read_csv('./data/AviationData.csv', \n",
    "                    encoding='latin-1', \n",
    "                    low_memory=False)\n",
    "    display_highlight(\"✓ Data successfully loaded with {:,} records\".format(len(df)))\n",
    "except Exception as e:\n",
    "    display_error(f\"✗ Error loading data: {e}\")"
   ]
  },
  {
   "cell_type": "markdown",
   "metadata": {},
   "source": [
    "## <span style=\"color: #1f77b4;\">Step 1: Data Cleaning</span>\n",
    "\n",
    "We load the NTSB dataset, standardize column names, filter for recent data (2010–2023), and prepare the `aircraft` column by combining `aircraft_make` and `aircraft_model`."
   ]
  },
  {
   "cell_type": "code",
   "execution_count": 5,
   "metadata": {},
   "outputs": [
    {
     "data": {
      "text/html": [
       "<div class=\"monalisa-quote\">Refining the raw dataset into a polished analysis-ready format</div>"
      ],
      "text/plain": [
       "<IPython.core.display.HTML object>"
      ]
     },
     "metadata": {},
     "output_type": "display_data"
    },
    {
     "data": {
      "text/html": [
       "<div class=\"monalisa-highlight\">Initial Dataset Structure:</div>"
      ],
      "text/plain": [
       "<IPython.core.display.HTML object>"
      ]
     },
     "metadata": {},
     "output_type": "display_data"
    },
    {
     "data": {
      "text/html": [
       "<style  type=\"text/css\" >\n",
       "    #T_c5ad620a_559c_11f0_a617_ce551f84775a th {\n",
       "          background-color: #1a5276;\n",
       "          color: white;\n",
       "          font-weight: 600;\n",
       "    }#T_c5ad620a_559c_11f0_a617_ce551f84775arow0_col0,#T_c5ad620a_559c_11f0_a617_ce551f84775arow0_col1,#T_c5ad620a_559c_11f0_a617_ce551f84775arow0_col2,#T_c5ad620a_559c_11f0_a617_ce551f84775arow1_col0,#T_c5ad620a_559c_11f0_a617_ce551f84775arow1_col1,#T_c5ad620a_559c_11f0_a617_ce551f84775arow1_col2,#T_c5ad620a_559c_11f0_a617_ce551f84775arow2_col0,#T_c5ad620a_559c_11f0_a617_ce551f84775arow2_col1,#T_c5ad620a_559c_11f0_a617_ce551f84775arow2_col2,#T_c5ad620a_559c_11f0_a617_ce551f84775arow3_col0,#T_c5ad620a_559c_11f0_a617_ce551f84775arow3_col1,#T_c5ad620a_559c_11f0_a617_ce551f84775arow3_col2,#T_c5ad620a_559c_11f0_a617_ce551f84775arow4_col0,#T_c5ad620a_559c_11f0_a617_ce551f84775arow4_col1,#T_c5ad620a_559c_11f0_a617_ce551f84775arow4_col2,#T_c5ad620a_559c_11f0_a617_ce551f84775arow5_col0,#T_c5ad620a_559c_11f0_a617_ce551f84775arow5_col1,#T_c5ad620a_559c_11f0_a617_ce551f84775arow5_col2,#T_c5ad620a_559c_11f0_a617_ce551f84775arow6_col0,#T_c5ad620a_559c_11f0_a617_ce551f84775arow6_col1,#T_c5ad620a_559c_11f0_a617_ce551f84775arow6_col2,#T_c5ad620a_559c_11f0_a617_ce551f84775arow7_col0,#T_c5ad620a_559c_11f0_a617_ce551f84775arow7_col1,#T_c5ad620a_559c_11f0_a617_ce551f84775arow7_col2,#T_c5ad620a_559c_11f0_a617_ce551f84775arow8_col0,#T_c5ad620a_559c_11f0_a617_ce551f84775arow8_col1,#T_c5ad620a_559c_11f0_a617_ce551f84775arow8_col2,#T_c5ad620a_559c_11f0_a617_ce551f84775arow9_col0,#T_c5ad620a_559c_11f0_a617_ce551f84775arow9_col1,#T_c5ad620a_559c_11f0_a617_ce551f84775arow9_col2,#T_c5ad620a_559c_11f0_a617_ce551f84775arow10_col0,#T_c5ad620a_559c_11f0_a617_ce551f84775arow10_col1,#T_c5ad620a_559c_11f0_a617_ce551f84775arow10_col2,#T_c5ad620a_559c_11f0_a617_ce551f84775arow11_col0,#T_c5ad620a_559c_11f0_a617_ce551f84775arow11_col1,#T_c5ad620a_559c_11f0_a617_ce551f84775arow11_col2,#T_c5ad620a_559c_11f0_a617_ce551f84775arow12_col0,#T_c5ad620a_559c_11f0_a617_ce551f84775arow12_col1,#T_c5ad620a_559c_11f0_a617_ce551f84775arow12_col2,#T_c5ad620a_559c_11f0_a617_ce551f84775arow13_col0,#T_c5ad620a_559c_11f0_a617_ce551f84775arow13_col1,#T_c5ad620a_559c_11f0_a617_ce551f84775arow13_col2,#T_c5ad620a_559c_11f0_a617_ce551f84775arow14_col0,#T_c5ad620a_559c_11f0_a617_ce551f84775arow14_col1,#T_c5ad620a_559c_11f0_a617_ce551f84775arow14_col2,#T_c5ad620a_559c_11f0_a617_ce551f84775arow15_col0,#T_c5ad620a_559c_11f0_a617_ce551f84775arow15_col1,#T_c5ad620a_559c_11f0_a617_ce551f84775arow15_col2,#T_c5ad620a_559c_11f0_a617_ce551f84775arow16_col0,#T_c5ad620a_559c_11f0_a617_ce551f84775arow16_col1,#T_c5ad620a_559c_11f0_a617_ce551f84775arow16_col2,#T_c5ad620a_559c_11f0_a617_ce551f84775arow17_col0,#T_c5ad620a_559c_11f0_a617_ce551f84775arow17_col1,#T_c5ad620a_559c_11f0_a617_ce551f84775arow17_col2,#T_c5ad620a_559c_11f0_a617_ce551f84775arow18_col0,#T_c5ad620a_559c_11f0_a617_ce551f84775arow18_col1,#T_c5ad620a_559c_11f0_a617_ce551f84775arow18_col2,#T_c5ad620a_559c_11f0_a617_ce551f84775arow19_col0,#T_c5ad620a_559c_11f0_a617_ce551f84775arow19_col1,#T_c5ad620a_559c_11f0_a617_ce551f84775arow19_col2,#T_c5ad620a_559c_11f0_a617_ce551f84775arow20_col0,#T_c5ad620a_559c_11f0_a617_ce551f84775arow20_col1,#T_c5ad620a_559c_11f0_a617_ce551f84775arow20_col2,#T_c5ad620a_559c_11f0_a617_ce551f84775arow21_col0,#T_c5ad620a_559c_11f0_a617_ce551f84775arow21_col1,#T_c5ad620a_559c_11f0_a617_ce551f84775arow21_col2,#T_c5ad620a_559c_11f0_a617_ce551f84775arow22_col0,#T_c5ad620a_559c_11f0_a617_ce551f84775arow22_col1,#T_c5ad620a_559c_11f0_a617_ce551f84775arow22_col2,#T_c5ad620a_559c_11f0_a617_ce551f84775arow23_col0,#T_c5ad620a_559c_11f0_a617_ce551f84775arow23_col1,#T_c5ad620a_559c_11f0_a617_ce551f84775arow23_col2,#T_c5ad620a_559c_11f0_a617_ce551f84775arow24_col0,#T_c5ad620a_559c_11f0_a617_ce551f84775arow24_col1,#T_c5ad620a_559c_11f0_a617_ce551f84775arow24_col2,#T_c5ad620a_559c_11f0_a617_ce551f84775arow25_col0,#T_c5ad620a_559c_11f0_a617_ce551f84775arow25_col1,#T_c5ad620a_559c_11f0_a617_ce551f84775arow25_col2,#T_c5ad620a_559c_11f0_a617_ce551f84775arow26_col0,#T_c5ad620a_559c_11f0_a617_ce551f84775arow26_col1,#T_c5ad620a_559c_11f0_a617_ce551f84775arow26_col2,#T_c5ad620a_559c_11f0_a617_ce551f84775arow27_col0,#T_c5ad620a_559c_11f0_a617_ce551f84775arow27_col1,#T_c5ad620a_559c_11f0_a617_ce551f84775arow27_col2,#T_c5ad620a_559c_11f0_a617_ce551f84775arow28_col0,#T_c5ad620a_559c_11f0_a617_ce551f84775arow28_col1,#T_c5ad620a_559c_11f0_a617_ce551f84775arow28_col2,#T_c5ad620a_559c_11f0_a617_ce551f84775arow29_col0,#T_c5ad620a_559c_11f0_a617_ce551f84775arow29_col1,#T_c5ad620a_559c_11f0_a617_ce551f84775arow29_col2,#T_c5ad620a_559c_11f0_a617_ce551f84775arow30_col0,#T_c5ad620a_559c_11f0_a617_ce551f84775arow30_col1,#T_c5ad620a_559c_11f0_a617_ce551f84775arow30_col2{\n",
       "            font-family:  Poppins;\n",
       "            font-size:  12px;\n",
       "            background-color:  #f9f9f9;\n",
       "            border:  1px solid #eee;\n",
       "        }</style><table id=\"T_c5ad620a_559c_11f0_a617_ce551f84775a\" ><thead>    <tr>        <th class=\"blank level0\" ></th>        <th class=\"col_heading level0 col0\" >Column</th>        <th class=\"col_heading level0 col1\" >Non-Null Count</th>        <th class=\"col_heading level0 col2\" >Dtype</th>    </tr></thead><tbody>\n",
       "                <tr>\n",
       "                        <th id=\"T_c5ad620a_559c_11f0_a617_ce551f84775alevel0_row0\" class=\"row_heading level0 row0\" >0</th>\n",
       "                        <td id=\"T_c5ad620a_559c_11f0_a617_ce551f84775arow0_col0\" class=\"data row0 col0\" >Event.Id</td>\n",
       "                        <td id=\"T_c5ad620a_559c_11f0_a617_ce551f84775arow0_col1\" class=\"data row0 col1\" >88889</td>\n",
       "                        <td id=\"T_c5ad620a_559c_11f0_a617_ce551f84775arow0_col2\" class=\"data row0 col2\" >object</td>\n",
       "            </tr>\n",
       "            <tr>\n",
       "                        <th id=\"T_c5ad620a_559c_11f0_a617_ce551f84775alevel0_row1\" class=\"row_heading level0 row1\" >1</th>\n",
       "                        <td id=\"T_c5ad620a_559c_11f0_a617_ce551f84775arow1_col0\" class=\"data row1 col0\" >Investigation.Type</td>\n",
       "                        <td id=\"T_c5ad620a_559c_11f0_a617_ce551f84775arow1_col1\" class=\"data row1 col1\" >88889</td>\n",
       "                        <td id=\"T_c5ad620a_559c_11f0_a617_ce551f84775arow1_col2\" class=\"data row1 col2\" >object</td>\n",
       "            </tr>\n",
       "            <tr>\n",
       "                        <th id=\"T_c5ad620a_559c_11f0_a617_ce551f84775alevel0_row2\" class=\"row_heading level0 row2\" >2</th>\n",
       "                        <td id=\"T_c5ad620a_559c_11f0_a617_ce551f84775arow2_col0\" class=\"data row2 col0\" >Accident.Number</td>\n",
       "                        <td id=\"T_c5ad620a_559c_11f0_a617_ce551f84775arow2_col1\" class=\"data row2 col1\" >88889</td>\n",
       "                        <td id=\"T_c5ad620a_559c_11f0_a617_ce551f84775arow2_col2\" class=\"data row2 col2\" >object</td>\n",
       "            </tr>\n",
       "            <tr>\n",
       "                        <th id=\"T_c5ad620a_559c_11f0_a617_ce551f84775alevel0_row3\" class=\"row_heading level0 row3\" >3</th>\n",
       "                        <td id=\"T_c5ad620a_559c_11f0_a617_ce551f84775arow3_col0\" class=\"data row3 col0\" >Event.Date</td>\n",
       "                        <td id=\"T_c5ad620a_559c_11f0_a617_ce551f84775arow3_col1\" class=\"data row3 col1\" >88889</td>\n",
       "                        <td id=\"T_c5ad620a_559c_11f0_a617_ce551f84775arow3_col2\" class=\"data row3 col2\" >object</td>\n",
       "            </tr>\n",
       "            <tr>\n",
       "                        <th id=\"T_c5ad620a_559c_11f0_a617_ce551f84775alevel0_row4\" class=\"row_heading level0 row4\" >4</th>\n",
       "                        <td id=\"T_c5ad620a_559c_11f0_a617_ce551f84775arow4_col0\" class=\"data row4 col0\" >Location</td>\n",
       "                        <td id=\"T_c5ad620a_559c_11f0_a617_ce551f84775arow4_col1\" class=\"data row4 col1\" >88837</td>\n",
       "                        <td id=\"T_c5ad620a_559c_11f0_a617_ce551f84775arow4_col2\" class=\"data row4 col2\" >object</td>\n",
       "            </tr>\n",
       "            <tr>\n",
       "                        <th id=\"T_c5ad620a_559c_11f0_a617_ce551f84775alevel0_row5\" class=\"row_heading level0 row5\" >5</th>\n",
       "                        <td id=\"T_c5ad620a_559c_11f0_a617_ce551f84775arow5_col0\" class=\"data row5 col0\" >Country</td>\n",
       "                        <td id=\"T_c5ad620a_559c_11f0_a617_ce551f84775arow5_col1\" class=\"data row5 col1\" >88663</td>\n",
       "                        <td id=\"T_c5ad620a_559c_11f0_a617_ce551f84775arow5_col2\" class=\"data row5 col2\" >object</td>\n",
       "            </tr>\n",
       "            <tr>\n",
       "                        <th id=\"T_c5ad620a_559c_11f0_a617_ce551f84775alevel0_row6\" class=\"row_heading level0 row6\" >6</th>\n",
       "                        <td id=\"T_c5ad620a_559c_11f0_a617_ce551f84775arow6_col0\" class=\"data row6 col0\" >Latitude</td>\n",
       "                        <td id=\"T_c5ad620a_559c_11f0_a617_ce551f84775arow6_col1\" class=\"data row6 col1\" >34382</td>\n",
       "                        <td id=\"T_c5ad620a_559c_11f0_a617_ce551f84775arow6_col2\" class=\"data row6 col2\" >object</td>\n",
       "            </tr>\n",
       "            <tr>\n",
       "                        <th id=\"T_c5ad620a_559c_11f0_a617_ce551f84775alevel0_row7\" class=\"row_heading level0 row7\" >7</th>\n",
       "                        <td id=\"T_c5ad620a_559c_11f0_a617_ce551f84775arow7_col0\" class=\"data row7 col0\" >Longitude</td>\n",
       "                        <td id=\"T_c5ad620a_559c_11f0_a617_ce551f84775arow7_col1\" class=\"data row7 col1\" >34373</td>\n",
       "                        <td id=\"T_c5ad620a_559c_11f0_a617_ce551f84775arow7_col2\" class=\"data row7 col2\" >object</td>\n",
       "            </tr>\n",
       "            <tr>\n",
       "                        <th id=\"T_c5ad620a_559c_11f0_a617_ce551f84775alevel0_row8\" class=\"row_heading level0 row8\" >8</th>\n",
       "                        <td id=\"T_c5ad620a_559c_11f0_a617_ce551f84775arow8_col0\" class=\"data row8 col0\" >Airport.Code</td>\n",
       "                        <td id=\"T_c5ad620a_559c_11f0_a617_ce551f84775arow8_col1\" class=\"data row8 col1\" >50249</td>\n",
       "                        <td id=\"T_c5ad620a_559c_11f0_a617_ce551f84775arow8_col2\" class=\"data row8 col2\" >object</td>\n",
       "            </tr>\n",
       "            <tr>\n",
       "                        <th id=\"T_c5ad620a_559c_11f0_a617_ce551f84775alevel0_row9\" class=\"row_heading level0 row9\" >9</th>\n",
       "                        <td id=\"T_c5ad620a_559c_11f0_a617_ce551f84775arow9_col0\" class=\"data row9 col0\" >Airport.Name</td>\n",
       "                        <td id=\"T_c5ad620a_559c_11f0_a617_ce551f84775arow9_col1\" class=\"data row9 col1\" >52790</td>\n",
       "                        <td id=\"T_c5ad620a_559c_11f0_a617_ce551f84775arow9_col2\" class=\"data row9 col2\" >object</td>\n",
       "            </tr>\n",
       "            <tr>\n",
       "                        <th id=\"T_c5ad620a_559c_11f0_a617_ce551f84775alevel0_row10\" class=\"row_heading level0 row10\" >10</th>\n",
       "                        <td id=\"T_c5ad620a_559c_11f0_a617_ce551f84775arow10_col0\" class=\"data row10 col0\" >Injury.Severity</td>\n",
       "                        <td id=\"T_c5ad620a_559c_11f0_a617_ce551f84775arow10_col1\" class=\"data row10 col1\" >87889</td>\n",
       "                        <td id=\"T_c5ad620a_559c_11f0_a617_ce551f84775arow10_col2\" class=\"data row10 col2\" >object</td>\n",
       "            </tr>\n",
       "            <tr>\n",
       "                        <th id=\"T_c5ad620a_559c_11f0_a617_ce551f84775alevel0_row11\" class=\"row_heading level0 row11\" >11</th>\n",
       "                        <td id=\"T_c5ad620a_559c_11f0_a617_ce551f84775arow11_col0\" class=\"data row11 col0\" >Aircraft.damage</td>\n",
       "                        <td id=\"T_c5ad620a_559c_11f0_a617_ce551f84775arow11_col1\" class=\"data row11 col1\" >85695</td>\n",
       "                        <td id=\"T_c5ad620a_559c_11f0_a617_ce551f84775arow11_col2\" class=\"data row11 col2\" >object</td>\n",
       "            </tr>\n",
       "            <tr>\n",
       "                        <th id=\"T_c5ad620a_559c_11f0_a617_ce551f84775alevel0_row12\" class=\"row_heading level0 row12\" >12</th>\n",
       "                        <td id=\"T_c5ad620a_559c_11f0_a617_ce551f84775arow12_col0\" class=\"data row12 col0\" >Aircraft.Category</td>\n",
       "                        <td id=\"T_c5ad620a_559c_11f0_a617_ce551f84775arow12_col1\" class=\"data row12 col1\" >32287</td>\n",
       "                        <td id=\"T_c5ad620a_559c_11f0_a617_ce551f84775arow12_col2\" class=\"data row12 col2\" >object</td>\n",
       "            </tr>\n",
       "            <tr>\n",
       "                        <th id=\"T_c5ad620a_559c_11f0_a617_ce551f84775alevel0_row13\" class=\"row_heading level0 row13\" >13</th>\n",
       "                        <td id=\"T_c5ad620a_559c_11f0_a617_ce551f84775arow13_col0\" class=\"data row13 col0\" >Registration.Number</td>\n",
       "                        <td id=\"T_c5ad620a_559c_11f0_a617_ce551f84775arow13_col1\" class=\"data row13 col1\" >87572</td>\n",
       "                        <td id=\"T_c5ad620a_559c_11f0_a617_ce551f84775arow13_col2\" class=\"data row13 col2\" >object</td>\n",
       "            </tr>\n",
       "            <tr>\n",
       "                        <th id=\"T_c5ad620a_559c_11f0_a617_ce551f84775alevel0_row14\" class=\"row_heading level0 row14\" >14</th>\n",
       "                        <td id=\"T_c5ad620a_559c_11f0_a617_ce551f84775arow14_col0\" class=\"data row14 col0\" >Make</td>\n",
       "                        <td id=\"T_c5ad620a_559c_11f0_a617_ce551f84775arow14_col1\" class=\"data row14 col1\" >88826</td>\n",
       "                        <td id=\"T_c5ad620a_559c_11f0_a617_ce551f84775arow14_col2\" class=\"data row14 col2\" >object</td>\n",
       "            </tr>\n",
       "            <tr>\n",
       "                        <th id=\"T_c5ad620a_559c_11f0_a617_ce551f84775alevel0_row15\" class=\"row_heading level0 row15\" >15</th>\n",
       "                        <td id=\"T_c5ad620a_559c_11f0_a617_ce551f84775arow15_col0\" class=\"data row15 col0\" >Model</td>\n",
       "                        <td id=\"T_c5ad620a_559c_11f0_a617_ce551f84775arow15_col1\" class=\"data row15 col1\" >88797</td>\n",
       "                        <td id=\"T_c5ad620a_559c_11f0_a617_ce551f84775arow15_col2\" class=\"data row15 col2\" >object</td>\n",
       "            </tr>\n",
       "            <tr>\n",
       "                        <th id=\"T_c5ad620a_559c_11f0_a617_ce551f84775alevel0_row16\" class=\"row_heading level0 row16\" >16</th>\n",
       "                        <td id=\"T_c5ad620a_559c_11f0_a617_ce551f84775arow16_col0\" class=\"data row16 col0\" >Amateur.Built</td>\n",
       "                        <td id=\"T_c5ad620a_559c_11f0_a617_ce551f84775arow16_col1\" class=\"data row16 col1\" >88787</td>\n",
       "                        <td id=\"T_c5ad620a_559c_11f0_a617_ce551f84775arow16_col2\" class=\"data row16 col2\" >object</td>\n",
       "            </tr>\n",
       "            <tr>\n",
       "                        <th id=\"T_c5ad620a_559c_11f0_a617_ce551f84775alevel0_row17\" class=\"row_heading level0 row17\" >17</th>\n",
       "                        <td id=\"T_c5ad620a_559c_11f0_a617_ce551f84775arow17_col0\" class=\"data row17 col0\" >Number.of.Engines</td>\n",
       "                        <td id=\"T_c5ad620a_559c_11f0_a617_ce551f84775arow17_col1\" class=\"data row17 col1\" >82805</td>\n",
       "                        <td id=\"T_c5ad620a_559c_11f0_a617_ce551f84775arow17_col2\" class=\"data row17 col2\" >float64</td>\n",
       "            </tr>\n",
       "            <tr>\n",
       "                        <th id=\"T_c5ad620a_559c_11f0_a617_ce551f84775alevel0_row18\" class=\"row_heading level0 row18\" >18</th>\n",
       "                        <td id=\"T_c5ad620a_559c_11f0_a617_ce551f84775arow18_col0\" class=\"data row18 col0\" >Engine.Type</td>\n",
       "                        <td id=\"T_c5ad620a_559c_11f0_a617_ce551f84775arow18_col1\" class=\"data row18 col1\" >81812</td>\n",
       "                        <td id=\"T_c5ad620a_559c_11f0_a617_ce551f84775arow18_col2\" class=\"data row18 col2\" >object</td>\n",
       "            </tr>\n",
       "            <tr>\n",
       "                        <th id=\"T_c5ad620a_559c_11f0_a617_ce551f84775alevel0_row19\" class=\"row_heading level0 row19\" >19</th>\n",
       "                        <td id=\"T_c5ad620a_559c_11f0_a617_ce551f84775arow19_col0\" class=\"data row19 col0\" >FAR.Description</td>\n",
       "                        <td id=\"T_c5ad620a_559c_11f0_a617_ce551f84775arow19_col1\" class=\"data row19 col1\" >32023</td>\n",
       "                        <td id=\"T_c5ad620a_559c_11f0_a617_ce551f84775arow19_col2\" class=\"data row19 col2\" >object</td>\n",
       "            </tr>\n",
       "            <tr>\n",
       "                        <th id=\"T_c5ad620a_559c_11f0_a617_ce551f84775alevel0_row20\" class=\"row_heading level0 row20\" >20</th>\n",
       "                        <td id=\"T_c5ad620a_559c_11f0_a617_ce551f84775arow20_col0\" class=\"data row20 col0\" >Schedule</td>\n",
       "                        <td id=\"T_c5ad620a_559c_11f0_a617_ce551f84775arow20_col1\" class=\"data row20 col1\" >12582</td>\n",
       "                        <td id=\"T_c5ad620a_559c_11f0_a617_ce551f84775arow20_col2\" class=\"data row20 col2\" >object</td>\n",
       "            </tr>\n",
       "            <tr>\n",
       "                        <th id=\"T_c5ad620a_559c_11f0_a617_ce551f84775alevel0_row21\" class=\"row_heading level0 row21\" >21</th>\n",
       "                        <td id=\"T_c5ad620a_559c_11f0_a617_ce551f84775arow21_col0\" class=\"data row21 col0\" >Purpose.of.flight</td>\n",
       "                        <td id=\"T_c5ad620a_559c_11f0_a617_ce551f84775arow21_col1\" class=\"data row21 col1\" >82697</td>\n",
       "                        <td id=\"T_c5ad620a_559c_11f0_a617_ce551f84775arow21_col2\" class=\"data row21 col2\" >object</td>\n",
       "            </tr>\n",
       "            <tr>\n",
       "                        <th id=\"T_c5ad620a_559c_11f0_a617_ce551f84775alevel0_row22\" class=\"row_heading level0 row22\" >22</th>\n",
       "                        <td id=\"T_c5ad620a_559c_11f0_a617_ce551f84775arow22_col0\" class=\"data row22 col0\" >Air.carrier</td>\n",
       "                        <td id=\"T_c5ad620a_559c_11f0_a617_ce551f84775arow22_col1\" class=\"data row22 col1\" >16648</td>\n",
       "                        <td id=\"T_c5ad620a_559c_11f0_a617_ce551f84775arow22_col2\" class=\"data row22 col2\" >object</td>\n",
       "            </tr>\n",
       "            <tr>\n",
       "                        <th id=\"T_c5ad620a_559c_11f0_a617_ce551f84775alevel0_row23\" class=\"row_heading level0 row23\" >23</th>\n",
       "                        <td id=\"T_c5ad620a_559c_11f0_a617_ce551f84775arow23_col0\" class=\"data row23 col0\" >Total.Fatal.Injuries</td>\n",
       "                        <td id=\"T_c5ad620a_559c_11f0_a617_ce551f84775arow23_col1\" class=\"data row23 col1\" >77488</td>\n",
       "                        <td id=\"T_c5ad620a_559c_11f0_a617_ce551f84775arow23_col2\" class=\"data row23 col2\" >float64</td>\n",
       "            </tr>\n",
       "            <tr>\n",
       "                        <th id=\"T_c5ad620a_559c_11f0_a617_ce551f84775alevel0_row24\" class=\"row_heading level0 row24\" >24</th>\n",
       "                        <td id=\"T_c5ad620a_559c_11f0_a617_ce551f84775arow24_col0\" class=\"data row24 col0\" >Total.Serious.Injuries</td>\n",
       "                        <td id=\"T_c5ad620a_559c_11f0_a617_ce551f84775arow24_col1\" class=\"data row24 col1\" >76379</td>\n",
       "                        <td id=\"T_c5ad620a_559c_11f0_a617_ce551f84775arow24_col2\" class=\"data row24 col2\" >float64</td>\n",
       "            </tr>\n",
       "            <tr>\n",
       "                        <th id=\"T_c5ad620a_559c_11f0_a617_ce551f84775alevel0_row25\" class=\"row_heading level0 row25\" >25</th>\n",
       "                        <td id=\"T_c5ad620a_559c_11f0_a617_ce551f84775arow25_col0\" class=\"data row25 col0\" >Total.Minor.Injuries</td>\n",
       "                        <td id=\"T_c5ad620a_559c_11f0_a617_ce551f84775arow25_col1\" class=\"data row25 col1\" >76956</td>\n",
       "                        <td id=\"T_c5ad620a_559c_11f0_a617_ce551f84775arow25_col2\" class=\"data row25 col2\" >float64</td>\n",
       "            </tr>\n",
       "            <tr>\n",
       "                        <th id=\"T_c5ad620a_559c_11f0_a617_ce551f84775alevel0_row26\" class=\"row_heading level0 row26\" >26</th>\n",
       "                        <td id=\"T_c5ad620a_559c_11f0_a617_ce551f84775arow26_col0\" class=\"data row26 col0\" >Total.Uninjured</td>\n",
       "                        <td id=\"T_c5ad620a_559c_11f0_a617_ce551f84775arow26_col1\" class=\"data row26 col1\" >82977</td>\n",
       "                        <td id=\"T_c5ad620a_559c_11f0_a617_ce551f84775arow26_col2\" class=\"data row26 col2\" >float64</td>\n",
       "            </tr>\n",
       "            <tr>\n",
       "                        <th id=\"T_c5ad620a_559c_11f0_a617_ce551f84775alevel0_row27\" class=\"row_heading level0 row27\" >27</th>\n",
       "                        <td id=\"T_c5ad620a_559c_11f0_a617_ce551f84775arow27_col0\" class=\"data row27 col0\" >Weather.Condition</td>\n",
       "                        <td id=\"T_c5ad620a_559c_11f0_a617_ce551f84775arow27_col1\" class=\"data row27 col1\" >84397</td>\n",
       "                        <td id=\"T_c5ad620a_559c_11f0_a617_ce551f84775arow27_col2\" class=\"data row27 col2\" >object</td>\n",
       "            </tr>\n",
       "            <tr>\n",
       "                        <th id=\"T_c5ad620a_559c_11f0_a617_ce551f84775alevel0_row28\" class=\"row_heading level0 row28\" >28</th>\n",
       "                        <td id=\"T_c5ad620a_559c_11f0_a617_ce551f84775arow28_col0\" class=\"data row28 col0\" >Broad.phase.of.flight</td>\n",
       "                        <td id=\"T_c5ad620a_559c_11f0_a617_ce551f84775arow28_col1\" class=\"data row28 col1\" >61724</td>\n",
       "                        <td id=\"T_c5ad620a_559c_11f0_a617_ce551f84775arow28_col2\" class=\"data row28 col2\" >object</td>\n",
       "            </tr>\n",
       "            <tr>\n",
       "                        <th id=\"T_c5ad620a_559c_11f0_a617_ce551f84775alevel0_row29\" class=\"row_heading level0 row29\" >29</th>\n",
       "                        <td id=\"T_c5ad620a_559c_11f0_a617_ce551f84775arow29_col0\" class=\"data row29 col0\" >Report.Status</td>\n",
       "                        <td id=\"T_c5ad620a_559c_11f0_a617_ce551f84775arow29_col1\" class=\"data row29 col1\" >82508</td>\n",
       "                        <td id=\"T_c5ad620a_559c_11f0_a617_ce551f84775arow29_col2\" class=\"data row29 col2\" >object</td>\n",
       "            </tr>\n",
       "            <tr>\n",
       "                        <th id=\"T_c5ad620a_559c_11f0_a617_ce551f84775alevel0_row30\" class=\"row_heading level0 row30\" >30</th>\n",
       "                        <td id=\"T_c5ad620a_559c_11f0_a617_ce551f84775arow30_col0\" class=\"data row30 col0\" >Publication.Date</td>\n",
       "                        <td id=\"T_c5ad620a_559c_11f0_a617_ce551f84775arow30_col1\" class=\"data row30 col1\" >75118</td>\n",
       "                        <td id=\"T_c5ad620a_559c_11f0_a617_ce551f84775arow30_col2\" class=\"data row30 col2\" >object</td>\n",
       "            </tr>\n",
       "    </tbody></table>"
      ],
      "text/plain": [
       "<pandas.io.formats.style.Styler at 0x7fe75c01ad00>"
      ]
     },
     "metadata": {},
     "output_type": "display_data"
    }
   ],
   "source": [
    "display_quote(\"Refining the raw dataset into a polished imputation-ready format\")\n",
    "# ---------------------\n",
    "# Inspect the dataset equivalent to \"df.info()\"\n",
    "display_highlight(\"Initial Dataset Structure:\")\n",
    "info_df = pd.DataFrame({\n",
    "    'Column': df.columns,\n",
    "    'Non-Null Count': [df[col].notnull().sum() for col in df.columns],\n",
    "    'Dtype': [df[col].dtype for col in df.columns]\n",
    "})\n",
    "display(info_df.style.set_properties(**{\n",
    "    'font-family': 'Poppins',\n",
    "    'font-size': '12px',\n",
    "    'background-color': '#f9f9f9',\n",
    "    'border': '1px solid #eee'\n",
    "}).set_table_styles([{\n",
    "    'selector': 'th',\n",
    "    'props': [('background-color', '#1a5276'), ('color', 'white'), ('font-weight', '600')]\n",
    "}]))\n"
   ]
  },
  {
   "cell_type": "code",
   "execution_count": 6,
   "metadata": {},
   "outputs": [
    {
     "data": {
      "text/html": [
       "<div class=\"monalisa-warning\">Missing Values Summary:</div>"
      ],
      "text/plain": [
       "<IPython.core.display.HTML object>"
      ]
     },
     "metadata": {},
     "output_type": "display_data"
    },
    {
     "data": {
      "text/html": [
       "<style  type=\"text/css\" >\n",
       "    #T_c5bbb6c0_559c_11f0_a617_ce551f84775a th {\n",
       "          background-color: #1a5276;\n",
       "          color: white;\n",
       "          font-weight: 600;\n",
       "    }#T_c5bbb6c0_559c_11f0_a617_ce551f84775arow0_col0,#T_c5bbb6c0_559c_11f0_a617_ce551f84775arow1_col0,#T_c5bbb6c0_559c_11f0_a617_ce551f84775arow2_col0,#T_c5bbb6c0_559c_11f0_a617_ce551f84775arow3_col0,#T_c5bbb6c0_559c_11f0_a617_ce551f84775arow4_col0,#T_c5bbb6c0_559c_11f0_a617_ce551f84775arow5_col0,#T_c5bbb6c0_559c_11f0_a617_ce551f84775arow6_col0,#T_c5bbb6c0_559c_11f0_a617_ce551f84775arow7_col0,#T_c5bbb6c0_559c_11f0_a617_ce551f84775arow8_col0,#T_c5bbb6c0_559c_11f0_a617_ce551f84775arow9_col0,#T_c5bbb6c0_559c_11f0_a617_ce551f84775arow10_col0,#T_c5bbb6c0_559c_11f0_a617_ce551f84775arow11_col0,#T_c5bbb6c0_559c_11f0_a617_ce551f84775arow12_col0,#T_c5bbb6c0_559c_11f0_a617_ce551f84775arow13_col0,#T_c5bbb6c0_559c_11f0_a617_ce551f84775arow14_col0,#T_c5bbb6c0_559c_11f0_a617_ce551f84775arow15_col0,#T_c5bbb6c0_559c_11f0_a617_ce551f84775arow16_col0,#T_c5bbb6c0_559c_11f0_a617_ce551f84775arow17_col0,#T_c5bbb6c0_559c_11f0_a617_ce551f84775arow18_col0,#T_c5bbb6c0_559c_11f0_a617_ce551f84775arow19_col0,#T_c5bbb6c0_559c_11f0_a617_ce551f84775arow20_col0,#T_c5bbb6c0_559c_11f0_a617_ce551f84775arow21_col0,#T_c5bbb6c0_559c_11f0_a617_ce551f84775arow22_col0,#T_c5bbb6c0_559c_11f0_a617_ce551f84775arow23_col0,#T_c5bbb6c0_559c_11f0_a617_ce551f84775arow24_col0,#T_c5bbb6c0_559c_11f0_a617_ce551f84775arow25_col0,#T_c5bbb6c0_559c_11f0_a617_ce551f84775arow26_col0{\n",
       "            font-family:  Poppins;\n",
       "            font-size:  12px;\n",
       "            background-color:  #f9f9f9;\n",
       "            border:  1px solid #eee;\n",
       "        }</style><table id=\"T_c5bbb6c0_559c_11f0_a617_ce551f84775a\" ><thead>    <tr>        <th class=\"blank level0\" ></th>        <th class=\"col_heading level0 col0\" >Missing Values</th>    </tr></thead><tbody>\n",
       "                <tr>\n",
       "                        <th id=\"T_c5bbb6c0_559c_11f0_a617_ce551f84775alevel0_row0\" class=\"row_heading level0 row0\" >Schedule</th>\n",
       "                        <td id=\"T_c5bbb6c0_559c_11f0_a617_ce551f84775arow0_col0\" class=\"data row0 col0\" >76307</td>\n",
       "            </tr>\n",
       "            <tr>\n",
       "                        <th id=\"T_c5bbb6c0_559c_11f0_a617_ce551f84775alevel0_row1\" class=\"row_heading level0 row1\" >Air.carrier</th>\n",
       "                        <td id=\"T_c5bbb6c0_559c_11f0_a617_ce551f84775arow1_col0\" class=\"data row1 col0\" >72241</td>\n",
       "            </tr>\n",
       "            <tr>\n",
       "                        <th id=\"T_c5bbb6c0_559c_11f0_a617_ce551f84775alevel0_row2\" class=\"row_heading level0 row2\" >FAR.Description</th>\n",
       "                        <td id=\"T_c5bbb6c0_559c_11f0_a617_ce551f84775arow2_col0\" class=\"data row2 col0\" >56866</td>\n",
       "            </tr>\n",
       "            <tr>\n",
       "                        <th id=\"T_c5bbb6c0_559c_11f0_a617_ce551f84775alevel0_row3\" class=\"row_heading level0 row3\" >Aircraft.Category</th>\n",
       "                        <td id=\"T_c5bbb6c0_559c_11f0_a617_ce551f84775arow3_col0\" class=\"data row3 col0\" >56602</td>\n",
       "            </tr>\n",
       "            <tr>\n",
       "                        <th id=\"T_c5bbb6c0_559c_11f0_a617_ce551f84775alevel0_row4\" class=\"row_heading level0 row4\" >Longitude</th>\n",
       "                        <td id=\"T_c5bbb6c0_559c_11f0_a617_ce551f84775arow4_col0\" class=\"data row4 col0\" >54516</td>\n",
       "            </tr>\n",
       "            <tr>\n",
       "                        <th id=\"T_c5bbb6c0_559c_11f0_a617_ce551f84775alevel0_row5\" class=\"row_heading level0 row5\" >Latitude</th>\n",
       "                        <td id=\"T_c5bbb6c0_559c_11f0_a617_ce551f84775arow5_col0\" class=\"data row5 col0\" >54507</td>\n",
       "            </tr>\n",
       "            <tr>\n",
       "                        <th id=\"T_c5bbb6c0_559c_11f0_a617_ce551f84775alevel0_row6\" class=\"row_heading level0 row6\" >Airport.Code</th>\n",
       "                        <td id=\"T_c5bbb6c0_559c_11f0_a617_ce551f84775arow6_col0\" class=\"data row6 col0\" >38640</td>\n",
       "            </tr>\n",
       "            <tr>\n",
       "                        <th id=\"T_c5bbb6c0_559c_11f0_a617_ce551f84775alevel0_row7\" class=\"row_heading level0 row7\" >Airport.Name</th>\n",
       "                        <td id=\"T_c5bbb6c0_559c_11f0_a617_ce551f84775arow7_col0\" class=\"data row7 col0\" >36099</td>\n",
       "            </tr>\n",
       "            <tr>\n",
       "                        <th id=\"T_c5bbb6c0_559c_11f0_a617_ce551f84775alevel0_row8\" class=\"row_heading level0 row8\" >Broad.phase.of.flight</th>\n",
       "                        <td id=\"T_c5bbb6c0_559c_11f0_a617_ce551f84775arow8_col0\" class=\"data row8 col0\" >27165</td>\n",
       "            </tr>\n",
       "            <tr>\n",
       "                        <th id=\"T_c5bbb6c0_559c_11f0_a617_ce551f84775alevel0_row9\" class=\"row_heading level0 row9\" >Publication.Date</th>\n",
       "                        <td id=\"T_c5bbb6c0_559c_11f0_a617_ce551f84775arow9_col0\" class=\"data row9 col0\" >13771</td>\n",
       "            </tr>\n",
       "            <tr>\n",
       "                        <th id=\"T_c5bbb6c0_559c_11f0_a617_ce551f84775alevel0_row10\" class=\"row_heading level0 row10\" >Total.Serious.Injuries</th>\n",
       "                        <td id=\"T_c5bbb6c0_559c_11f0_a617_ce551f84775arow10_col0\" class=\"data row10 col0\" >12510</td>\n",
       "            </tr>\n",
       "            <tr>\n",
       "                        <th id=\"T_c5bbb6c0_559c_11f0_a617_ce551f84775alevel0_row11\" class=\"row_heading level0 row11\" >Total.Minor.Injuries</th>\n",
       "                        <td id=\"T_c5bbb6c0_559c_11f0_a617_ce551f84775arow11_col0\" class=\"data row11 col0\" >11933</td>\n",
       "            </tr>\n",
       "            <tr>\n",
       "                        <th id=\"T_c5bbb6c0_559c_11f0_a617_ce551f84775alevel0_row12\" class=\"row_heading level0 row12\" >Total.Fatal.Injuries</th>\n",
       "                        <td id=\"T_c5bbb6c0_559c_11f0_a617_ce551f84775arow12_col0\" class=\"data row12 col0\" >11401</td>\n",
       "            </tr>\n",
       "            <tr>\n",
       "                        <th id=\"T_c5bbb6c0_559c_11f0_a617_ce551f84775alevel0_row13\" class=\"row_heading level0 row13\" >Engine.Type</th>\n",
       "                        <td id=\"T_c5bbb6c0_559c_11f0_a617_ce551f84775arow13_col0\" class=\"data row13 col0\" >7077</td>\n",
       "            </tr>\n",
       "            <tr>\n",
       "                        <th id=\"T_c5bbb6c0_559c_11f0_a617_ce551f84775alevel0_row14\" class=\"row_heading level0 row14\" >Report.Status</th>\n",
       "                        <td id=\"T_c5bbb6c0_559c_11f0_a617_ce551f84775arow14_col0\" class=\"data row14 col0\" >6381</td>\n",
       "            </tr>\n",
       "            <tr>\n",
       "                        <th id=\"T_c5bbb6c0_559c_11f0_a617_ce551f84775alevel0_row15\" class=\"row_heading level0 row15\" >Purpose.of.flight</th>\n",
       "                        <td id=\"T_c5bbb6c0_559c_11f0_a617_ce551f84775arow15_col0\" class=\"data row15 col0\" >6192</td>\n",
       "            </tr>\n",
       "            <tr>\n",
       "                        <th id=\"T_c5bbb6c0_559c_11f0_a617_ce551f84775alevel0_row16\" class=\"row_heading level0 row16\" >Number.of.Engines</th>\n",
       "                        <td id=\"T_c5bbb6c0_559c_11f0_a617_ce551f84775arow16_col0\" class=\"data row16 col0\" >6084</td>\n",
       "            </tr>\n",
       "            <tr>\n",
       "                        <th id=\"T_c5bbb6c0_559c_11f0_a617_ce551f84775alevel0_row17\" class=\"row_heading level0 row17\" >Total.Uninjured</th>\n",
       "                        <td id=\"T_c5bbb6c0_559c_11f0_a617_ce551f84775arow17_col0\" class=\"data row17 col0\" >5912</td>\n",
       "            </tr>\n",
       "            <tr>\n",
       "                        <th id=\"T_c5bbb6c0_559c_11f0_a617_ce551f84775alevel0_row18\" class=\"row_heading level0 row18\" >Weather.Condition</th>\n",
       "                        <td id=\"T_c5bbb6c0_559c_11f0_a617_ce551f84775arow18_col0\" class=\"data row18 col0\" >4492</td>\n",
       "            </tr>\n",
       "            <tr>\n",
       "                        <th id=\"T_c5bbb6c0_559c_11f0_a617_ce551f84775alevel0_row19\" class=\"row_heading level0 row19\" >Aircraft.damage</th>\n",
       "                        <td id=\"T_c5bbb6c0_559c_11f0_a617_ce551f84775arow19_col0\" class=\"data row19 col0\" >3194</td>\n",
       "            </tr>\n",
       "            <tr>\n",
       "                        <th id=\"T_c5bbb6c0_559c_11f0_a617_ce551f84775alevel0_row20\" class=\"row_heading level0 row20\" >Registration.Number</th>\n",
       "                        <td id=\"T_c5bbb6c0_559c_11f0_a617_ce551f84775arow20_col0\" class=\"data row20 col0\" >1317</td>\n",
       "            </tr>\n",
       "            <tr>\n",
       "                        <th id=\"T_c5bbb6c0_559c_11f0_a617_ce551f84775alevel0_row21\" class=\"row_heading level0 row21\" >Injury.Severity</th>\n",
       "                        <td id=\"T_c5bbb6c0_559c_11f0_a617_ce551f84775arow21_col0\" class=\"data row21 col0\" >1000</td>\n",
       "            </tr>\n",
       "            <tr>\n",
       "                        <th id=\"T_c5bbb6c0_559c_11f0_a617_ce551f84775alevel0_row22\" class=\"row_heading level0 row22\" >Country</th>\n",
       "                        <td id=\"T_c5bbb6c0_559c_11f0_a617_ce551f84775arow22_col0\" class=\"data row22 col0\" >226</td>\n",
       "            </tr>\n",
       "            <tr>\n",
       "                        <th id=\"T_c5bbb6c0_559c_11f0_a617_ce551f84775alevel0_row23\" class=\"row_heading level0 row23\" >Amateur.Built</th>\n",
       "                        <td id=\"T_c5bbb6c0_559c_11f0_a617_ce551f84775arow23_col0\" class=\"data row23 col0\" >102</td>\n",
       "            </tr>\n",
       "            <tr>\n",
       "                        <th id=\"T_c5bbb6c0_559c_11f0_a617_ce551f84775alevel0_row24\" class=\"row_heading level0 row24\" >Model</th>\n",
       "                        <td id=\"T_c5bbb6c0_559c_11f0_a617_ce551f84775arow24_col0\" class=\"data row24 col0\" >92</td>\n",
       "            </tr>\n",
       "            <tr>\n",
       "                        <th id=\"T_c5bbb6c0_559c_11f0_a617_ce551f84775alevel0_row25\" class=\"row_heading level0 row25\" >Make</th>\n",
       "                        <td id=\"T_c5bbb6c0_559c_11f0_a617_ce551f84775arow25_col0\" class=\"data row25 col0\" >63</td>\n",
       "            </tr>\n",
       "            <tr>\n",
       "                        <th id=\"T_c5bbb6c0_559c_11f0_a617_ce551f84775alevel0_row26\" class=\"row_heading level0 row26\" >Location</th>\n",
       "                        <td id=\"T_c5bbb6c0_559c_11f0_a617_ce551f84775arow26_col0\" class=\"data row26 col0\" >52</td>\n",
       "            </tr>\n",
       "    </tbody></table>"
      ],
      "text/plain": [
       "<pandas.io.formats.style.Styler at 0x7fe75c01aac0>"
      ]
     },
     "metadata": {},
     "output_type": "display_data"
    }
   ],
   "source": [
    "# Inspect for missing values\n",
    "display_warning(\"Missing Values Summary:\")\n",
    "missing_data = df.isnull().sum().sort_values(ascending=False)\n",
    "display(missing_data[missing_data > 0].to_frame('Missing Values').style.set_properties(**{\n",
    "    'font-family': 'Poppins',\n",
    "    'font-size': '12px',\n",
    "    'background-color': '#f9f9f9',\n",
    "    'border': '1px solid #eee'\n",
    "}).set_table_styles([{\n",
    "    'selector': 'th',\n",
    "    'props': [('background-color', '#1a5276'), ('color', 'white'), ('font-weight', '600')]\n",
    "}]))"
   ]
  },
  {
   "cell_type": "code",
   "execution_count": 7,
   "metadata": {},
   "outputs": [],
   "source": [
    "# Standardize column names (lowercase, replace spaces and periods with underscores)\n",
    "df.columns = df.columns.str.lower().str.replace(' ', '_').str.replace('.', '_')\n"
   ]
  },
  {
   "cell_type": "code",
   "execution_count": 8,
   "metadata": {},
   "outputs": [
    {
     "data": {
      "text/html": [
       "<div class=\"monalisa-highlight\">Sample Data Preview:</div>"
      ],
      "text/plain": [
       "<IPython.core.display.HTML object>"
      ]
     },
     "metadata": {},
     "output_type": "display_data"
    },
    {
     "data": {
      "text/html": [
       "<style  type=\"text/css\" >\n",
       "    #T_c5c41b26_559c_11f0_a617_ce551f84775a th {\n",
       "          background-color: #1a5276;\n",
       "          color: white;\n",
       "          font-weight: 600;\n",
       "    }#T_c5c41b26_559c_11f0_a617_ce551f84775arow0_col0,#T_c5c41b26_559c_11f0_a617_ce551f84775arow0_col1,#T_c5c41b26_559c_11f0_a617_ce551f84775arow0_col2,#T_c5c41b26_559c_11f0_a617_ce551f84775arow0_col3,#T_c5c41b26_559c_11f0_a617_ce551f84775arow0_col4,#T_c5c41b26_559c_11f0_a617_ce551f84775arow0_col5,#T_c5c41b26_559c_11f0_a617_ce551f84775arow0_col6,#T_c5c41b26_559c_11f0_a617_ce551f84775arow0_col7,#T_c5c41b26_559c_11f0_a617_ce551f84775arow0_col8,#T_c5c41b26_559c_11f0_a617_ce551f84775arow0_col9,#T_c5c41b26_559c_11f0_a617_ce551f84775arow0_col10,#T_c5c41b26_559c_11f0_a617_ce551f84775arow0_col11,#T_c5c41b26_559c_11f0_a617_ce551f84775arow0_col12,#T_c5c41b26_559c_11f0_a617_ce551f84775arow0_col13,#T_c5c41b26_559c_11f0_a617_ce551f84775arow0_col14,#T_c5c41b26_559c_11f0_a617_ce551f84775arow0_col15,#T_c5c41b26_559c_11f0_a617_ce551f84775arow0_col16,#T_c5c41b26_559c_11f0_a617_ce551f84775arow0_col17,#T_c5c41b26_559c_11f0_a617_ce551f84775arow0_col18,#T_c5c41b26_559c_11f0_a617_ce551f84775arow0_col19,#T_c5c41b26_559c_11f0_a617_ce551f84775arow0_col20,#T_c5c41b26_559c_11f0_a617_ce551f84775arow0_col21,#T_c5c41b26_559c_11f0_a617_ce551f84775arow0_col22,#T_c5c41b26_559c_11f0_a617_ce551f84775arow0_col23,#T_c5c41b26_559c_11f0_a617_ce551f84775arow0_col24,#T_c5c41b26_559c_11f0_a617_ce551f84775arow0_col25,#T_c5c41b26_559c_11f0_a617_ce551f84775arow0_col26,#T_c5c41b26_559c_11f0_a617_ce551f84775arow0_col27,#T_c5c41b26_559c_11f0_a617_ce551f84775arow0_col28,#T_c5c41b26_559c_11f0_a617_ce551f84775arow0_col29,#T_c5c41b26_559c_11f0_a617_ce551f84775arow0_col30,#T_c5c41b26_559c_11f0_a617_ce551f84775arow1_col0,#T_c5c41b26_559c_11f0_a617_ce551f84775arow1_col1,#T_c5c41b26_559c_11f0_a617_ce551f84775arow1_col2,#T_c5c41b26_559c_11f0_a617_ce551f84775arow1_col3,#T_c5c41b26_559c_11f0_a617_ce551f84775arow1_col4,#T_c5c41b26_559c_11f0_a617_ce551f84775arow1_col5,#T_c5c41b26_559c_11f0_a617_ce551f84775arow1_col6,#T_c5c41b26_559c_11f0_a617_ce551f84775arow1_col7,#T_c5c41b26_559c_11f0_a617_ce551f84775arow1_col8,#T_c5c41b26_559c_11f0_a617_ce551f84775arow1_col9,#T_c5c41b26_559c_11f0_a617_ce551f84775arow1_col10,#T_c5c41b26_559c_11f0_a617_ce551f84775arow1_col11,#T_c5c41b26_559c_11f0_a617_ce551f84775arow1_col12,#T_c5c41b26_559c_11f0_a617_ce551f84775arow1_col13,#T_c5c41b26_559c_11f0_a617_ce551f84775arow1_col14,#T_c5c41b26_559c_11f0_a617_ce551f84775arow1_col15,#T_c5c41b26_559c_11f0_a617_ce551f84775arow1_col16,#T_c5c41b26_559c_11f0_a617_ce551f84775arow1_col17,#T_c5c41b26_559c_11f0_a617_ce551f84775arow1_col18,#T_c5c41b26_559c_11f0_a617_ce551f84775arow1_col19,#T_c5c41b26_559c_11f0_a617_ce551f84775arow1_col20,#T_c5c41b26_559c_11f0_a617_ce551f84775arow1_col21,#T_c5c41b26_559c_11f0_a617_ce551f84775arow1_col22,#T_c5c41b26_559c_11f0_a617_ce551f84775arow1_col23,#T_c5c41b26_559c_11f0_a617_ce551f84775arow1_col24,#T_c5c41b26_559c_11f0_a617_ce551f84775arow1_col25,#T_c5c41b26_559c_11f0_a617_ce551f84775arow1_col26,#T_c5c41b26_559c_11f0_a617_ce551f84775arow1_col27,#T_c5c41b26_559c_11f0_a617_ce551f84775arow1_col28,#T_c5c41b26_559c_11f0_a617_ce551f84775arow1_col29,#T_c5c41b26_559c_11f0_a617_ce551f84775arow1_col30,#T_c5c41b26_559c_11f0_a617_ce551f84775arow2_col0,#T_c5c41b26_559c_11f0_a617_ce551f84775arow2_col1,#T_c5c41b26_559c_11f0_a617_ce551f84775arow2_col2,#T_c5c41b26_559c_11f0_a617_ce551f84775arow2_col3,#T_c5c41b26_559c_11f0_a617_ce551f84775arow2_col4,#T_c5c41b26_559c_11f0_a617_ce551f84775arow2_col5,#T_c5c41b26_559c_11f0_a617_ce551f84775arow2_col6,#T_c5c41b26_559c_11f0_a617_ce551f84775arow2_col7,#T_c5c41b26_559c_11f0_a617_ce551f84775arow2_col8,#T_c5c41b26_559c_11f0_a617_ce551f84775arow2_col9,#T_c5c41b26_559c_11f0_a617_ce551f84775arow2_col10,#T_c5c41b26_559c_11f0_a617_ce551f84775arow2_col11,#T_c5c41b26_559c_11f0_a617_ce551f84775arow2_col12,#T_c5c41b26_559c_11f0_a617_ce551f84775arow2_col13,#T_c5c41b26_559c_11f0_a617_ce551f84775arow2_col14,#T_c5c41b26_559c_11f0_a617_ce551f84775arow2_col15,#T_c5c41b26_559c_11f0_a617_ce551f84775arow2_col16,#T_c5c41b26_559c_11f0_a617_ce551f84775arow2_col17,#T_c5c41b26_559c_11f0_a617_ce551f84775arow2_col18,#T_c5c41b26_559c_11f0_a617_ce551f84775arow2_col19,#T_c5c41b26_559c_11f0_a617_ce551f84775arow2_col20,#T_c5c41b26_559c_11f0_a617_ce551f84775arow2_col21,#T_c5c41b26_559c_11f0_a617_ce551f84775arow2_col22,#T_c5c41b26_559c_11f0_a617_ce551f84775arow2_col23,#T_c5c41b26_559c_11f0_a617_ce551f84775arow2_col24,#T_c5c41b26_559c_11f0_a617_ce551f84775arow2_col25,#T_c5c41b26_559c_11f0_a617_ce551f84775arow2_col26,#T_c5c41b26_559c_11f0_a617_ce551f84775arow2_col27,#T_c5c41b26_559c_11f0_a617_ce551f84775arow2_col28,#T_c5c41b26_559c_11f0_a617_ce551f84775arow2_col29,#T_c5c41b26_559c_11f0_a617_ce551f84775arow2_col30,#T_c5c41b26_559c_11f0_a617_ce551f84775arow3_col0,#T_c5c41b26_559c_11f0_a617_ce551f84775arow3_col1,#T_c5c41b26_559c_11f0_a617_ce551f84775arow3_col2,#T_c5c41b26_559c_11f0_a617_ce551f84775arow3_col3,#T_c5c41b26_559c_11f0_a617_ce551f84775arow3_col4,#T_c5c41b26_559c_11f0_a617_ce551f84775arow3_col5,#T_c5c41b26_559c_11f0_a617_ce551f84775arow3_col6,#T_c5c41b26_559c_11f0_a617_ce551f84775arow3_col7,#T_c5c41b26_559c_11f0_a617_ce551f84775arow3_col8,#T_c5c41b26_559c_11f0_a617_ce551f84775arow3_col9,#T_c5c41b26_559c_11f0_a617_ce551f84775arow3_col10,#T_c5c41b26_559c_11f0_a617_ce551f84775arow3_col11,#T_c5c41b26_559c_11f0_a617_ce551f84775arow3_col12,#T_c5c41b26_559c_11f0_a617_ce551f84775arow3_col13,#T_c5c41b26_559c_11f0_a617_ce551f84775arow3_col14,#T_c5c41b26_559c_11f0_a617_ce551f84775arow3_col15,#T_c5c41b26_559c_11f0_a617_ce551f84775arow3_col16,#T_c5c41b26_559c_11f0_a617_ce551f84775arow3_col17,#T_c5c41b26_559c_11f0_a617_ce551f84775arow3_col18,#T_c5c41b26_559c_11f0_a617_ce551f84775arow3_col19,#T_c5c41b26_559c_11f0_a617_ce551f84775arow3_col20,#T_c5c41b26_559c_11f0_a617_ce551f84775arow3_col21,#T_c5c41b26_559c_11f0_a617_ce551f84775arow3_col22,#T_c5c41b26_559c_11f0_a617_ce551f84775arow3_col23,#T_c5c41b26_559c_11f0_a617_ce551f84775arow3_col24,#T_c5c41b26_559c_11f0_a617_ce551f84775arow3_col25,#T_c5c41b26_559c_11f0_a617_ce551f84775arow3_col26,#T_c5c41b26_559c_11f0_a617_ce551f84775arow3_col27,#T_c5c41b26_559c_11f0_a617_ce551f84775arow3_col28,#T_c5c41b26_559c_11f0_a617_ce551f84775arow3_col29,#T_c5c41b26_559c_11f0_a617_ce551f84775arow3_col30,#T_c5c41b26_559c_11f0_a617_ce551f84775arow4_col0,#T_c5c41b26_559c_11f0_a617_ce551f84775arow4_col1,#T_c5c41b26_559c_11f0_a617_ce551f84775arow4_col2,#T_c5c41b26_559c_11f0_a617_ce551f84775arow4_col3,#T_c5c41b26_559c_11f0_a617_ce551f84775arow4_col4,#T_c5c41b26_559c_11f0_a617_ce551f84775arow4_col5,#T_c5c41b26_559c_11f0_a617_ce551f84775arow4_col6,#T_c5c41b26_559c_11f0_a617_ce551f84775arow4_col7,#T_c5c41b26_559c_11f0_a617_ce551f84775arow4_col8,#T_c5c41b26_559c_11f0_a617_ce551f84775arow4_col9,#T_c5c41b26_559c_11f0_a617_ce551f84775arow4_col10,#T_c5c41b26_559c_11f0_a617_ce551f84775arow4_col11,#T_c5c41b26_559c_11f0_a617_ce551f84775arow4_col12,#T_c5c41b26_559c_11f0_a617_ce551f84775arow4_col13,#T_c5c41b26_559c_11f0_a617_ce551f84775arow4_col14,#T_c5c41b26_559c_11f0_a617_ce551f84775arow4_col15,#T_c5c41b26_559c_11f0_a617_ce551f84775arow4_col16,#T_c5c41b26_559c_11f0_a617_ce551f84775arow4_col17,#T_c5c41b26_559c_11f0_a617_ce551f84775arow4_col18,#T_c5c41b26_559c_11f0_a617_ce551f84775arow4_col19,#T_c5c41b26_559c_11f0_a617_ce551f84775arow4_col20,#T_c5c41b26_559c_11f0_a617_ce551f84775arow4_col21,#T_c5c41b26_559c_11f0_a617_ce551f84775arow4_col22,#T_c5c41b26_559c_11f0_a617_ce551f84775arow4_col23,#T_c5c41b26_559c_11f0_a617_ce551f84775arow4_col24,#T_c5c41b26_559c_11f0_a617_ce551f84775arow4_col25,#T_c5c41b26_559c_11f0_a617_ce551f84775arow4_col26,#T_c5c41b26_559c_11f0_a617_ce551f84775arow4_col27,#T_c5c41b26_559c_11f0_a617_ce551f84775arow4_col28,#T_c5c41b26_559c_11f0_a617_ce551f84775arow4_col29,#T_c5c41b26_559c_11f0_a617_ce551f84775arow4_col30{\n",
       "            font-family:  Poppins;\n",
       "            font-size:  12px;\n",
       "            background-color:  #f9f9f9;\n",
       "            border:  1px solid #eee;\n",
       "        }</style><table id=\"T_c5c41b26_559c_11f0_a617_ce551f84775a\" ><thead>    <tr>        <th class=\"blank level0\" ></th>        <th class=\"col_heading level0 col0\" >event_id</th>        <th class=\"col_heading level0 col1\" >investigation_type</th>        <th class=\"col_heading level0 col2\" >accident_number</th>        <th class=\"col_heading level0 col3\" >event_date</th>        <th class=\"col_heading level0 col4\" >location</th>        <th class=\"col_heading level0 col5\" >country</th>        <th class=\"col_heading level0 col6\" >latitude</th>        <th class=\"col_heading level0 col7\" >longitude</th>        <th class=\"col_heading level0 col8\" >airport_code</th>        <th class=\"col_heading level0 col9\" >airport_name</th>        <th class=\"col_heading level0 col10\" >injury_severity</th>        <th class=\"col_heading level0 col11\" >aircraft_damage</th>        <th class=\"col_heading level0 col12\" >aircraft_category</th>        <th class=\"col_heading level0 col13\" >registration_number</th>        <th class=\"col_heading level0 col14\" >make</th>        <th class=\"col_heading level0 col15\" >model</th>        <th class=\"col_heading level0 col16\" >amateur_built</th>        <th class=\"col_heading level0 col17\" >number_of_engines</th>        <th class=\"col_heading level0 col18\" >engine_type</th>        <th class=\"col_heading level0 col19\" >far_description</th>        <th class=\"col_heading level0 col20\" >schedule</th>        <th class=\"col_heading level0 col21\" >purpose_of_flight</th>        <th class=\"col_heading level0 col22\" >air_carrier</th>        <th class=\"col_heading level0 col23\" >total_fatal_injuries</th>        <th class=\"col_heading level0 col24\" >total_serious_injuries</th>        <th class=\"col_heading level0 col25\" >total_minor_injuries</th>        <th class=\"col_heading level0 col26\" >total_uninjured</th>        <th class=\"col_heading level0 col27\" >weather_condition</th>        <th class=\"col_heading level0 col28\" >broad_phase_of_flight</th>        <th class=\"col_heading level0 col29\" >report_status</th>        <th class=\"col_heading level0 col30\" >publication_date</th>    </tr></thead><tbody>\n",
       "                <tr>\n",
       "                        <th id=\"T_c5c41b26_559c_11f0_a617_ce551f84775alevel0_row0\" class=\"row_heading level0 row0\" >0</th>\n",
       "                        <td id=\"T_c5c41b26_559c_11f0_a617_ce551f84775arow0_col0\" class=\"data row0 col0\" >20001218X45444</td>\n",
       "                        <td id=\"T_c5c41b26_559c_11f0_a617_ce551f84775arow0_col1\" class=\"data row0 col1\" >Accident</td>\n",
       "                        <td id=\"T_c5c41b26_559c_11f0_a617_ce551f84775arow0_col2\" class=\"data row0 col2\" >SEA87LA080</td>\n",
       "                        <td id=\"T_c5c41b26_559c_11f0_a617_ce551f84775arow0_col3\" class=\"data row0 col3\" >1948-10-24</td>\n",
       "                        <td id=\"T_c5c41b26_559c_11f0_a617_ce551f84775arow0_col4\" class=\"data row0 col4\" >MOOSE CREEK, ID</td>\n",
       "                        <td id=\"T_c5c41b26_559c_11f0_a617_ce551f84775arow0_col5\" class=\"data row0 col5\" >United States</td>\n",
       "                        <td id=\"T_c5c41b26_559c_11f0_a617_ce551f84775arow0_col6\" class=\"data row0 col6\" >nan</td>\n",
       "                        <td id=\"T_c5c41b26_559c_11f0_a617_ce551f84775arow0_col7\" class=\"data row0 col7\" >nan</td>\n",
       "                        <td id=\"T_c5c41b26_559c_11f0_a617_ce551f84775arow0_col8\" class=\"data row0 col8\" >nan</td>\n",
       "                        <td id=\"T_c5c41b26_559c_11f0_a617_ce551f84775arow0_col9\" class=\"data row0 col9\" >nan</td>\n",
       "                        <td id=\"T_c5c41b26_559c_11f0_a617_ce551f84775arow0_col10\" class=\"data row0 col10\" >Fatal(2)</td>\n",
       "                        <td id=\"T_c5c41b26_559c_11f0_a617_ce551f84775arow0_col11\" class=\"data row0 col11\" >Destroyed</td>\n",
       "                        <td id=\"T_c5c41b26_559c_11f0_a617_ce551f84775arow0_col12\" class=\"data row0 col12\" >nan</td>\n",
       "                        <td id=\"T_c5c41b26_559c_11f0_a617_ce551f84775arow0_col13\" class=\"data row0 col13\" >NC6404</td>\n",
       "                        <td id=\"T_c5c41b26_559c_11f0_a617_ce551f84775arow0_col14\" class=\"data row0 col14\" >Stinson</td>\n",
       "                        <td id=\"T_c5c41b26_559c_11f0_a617_ce551f84775arow0_col15\" class=\"data row0 col15\" >108-3</td>\n",
       "                        <td id=\"T_c5c41b26_559c_11f0_a617_ce551f84775arow0_col16\" class=\"data row0 col16\" >No</td>\n",
       "                        <td id=\"T_c5c41b26_559c_11f0_a617_ce551f84775arow0_col17\" class=\"data row0 col17\" >1.000000</td>\n",
       "                        <td id=\"T_c5c41b26_559c_11f0_a617_ce551f84775arow0_col18\" class=\"data row0 col18\" >Reciprocating</td>\n",
       "                        <td id=\"T_c5c41b26_559c_11f0_a617_ce551f84775arow0_col19\" class=\"data row0 col19\" >nan</td>\n",
       "                        <td id=\"T_c5c41b26_559c_11f0_a617_ce551f84775arow0_col20\" class=\"data row0 col20\" >nan</td>\n",
       "                        <td id=\"T_c5c41b26_559c_11f0_a617_ce551f84775arow0_col21\" class=\"data row0 col21\" >Personal</td>\n",
       "                        <td id=\"T_c5c41b26_559c_11f0_a617_ce551f84775arow0_col22\" class=\"data row0 col22\" >nan</td>\n",
       "                        <td id=\"T_c5c41b26_559c_11f0_a617_ce551f84775arow0_col23\" class=\"data row0 col23\" >2.000000</td>\n",
       "                        <td id=\"T_c5c41b26_559c_11f0_a617_ce551f84775arow0_col24\" class=\"data row0 col24\" >0.000000</td>\n",
       "                        <td id=\"T_c5c41b26_559c_11f0_a617_ce551f84775arow0_col25\" class=\"data row0 col25\" >0.000000</td>\n",
       "                        <td id=\"T_c5c41b26_559c_11f0_a617_ce551f84775arow0_col26\" class=\"data row0 col26\" >0.000000</td>\n",
       "                        <td id=\"T_c5c41b26_559c_11f0_a617_ce551f84775arow0_col27\" class=\"data row0 col27\" >UNK</td>\n",
       "                        <td id=\"T_c5c41b26_559c_11f0_a617_ce551f84775arow0_col28\" class=\"data row0 col28\" >Cruise</td>\n",
       "                        <td id=\"T_c5c41b26_559c_11f0_a617_ce551f84775arow0_col29\" class=\"data row0 col29\" >Probable Cause</td>\n",
       "                        <td id=\"T_c5c41b26_559c_11f0_a617_ce551f84775arow0_col30\" class=\"data row0 col30\" >nan</td>\n",
       "            </tr>\n",
       "            <tr>\n",
       "                        <th id=\"T_c5c41b26_559c_11f0_a617_ce551f84775alevel0_row1\" class=\"row_heading level0 row1\" >1</th>\n",
       "                        <td id=\"T_c5c41b26_559c_11f0_a617_ce551f84775arow1_col0\" class=\"data row1 col0\" >20001218X45447</td>\n",
       "                        <td id=\"T_c5c41b26_559c_11f0_a617_ce551f84775arow1_col1\" class=\"data row1 col1\" >Accident</td>\n",
       "                        <td id=\"T_c5c41b26_559c_11f0_a617_ce551f84775arow1_col2\" class=\"data row1 col2\" >LAX94LA336</td>\n",
       "                        <td id=\"T_c5c41b26_559c_11f0_a617_ce551f84775arow1_col3\" class=\"data row1 col3\" >1962-07-19</td>\n",
       "                        <td id=\"T_c5c41b26_559c_11f0_a617_ce551f84775arow1_col4\" class=\"data row1 col4\" >BRIDGEPORT, CA</td>\n",
       "                        <td id=\"T_c5c41b26_559c_11f0_a617_ce551f84775arow1_col5\" class=\"data row1 col5\" >United States</td>\n",
       "                        <td id=\"T_c5c41b26_559c_11f0_a617_ce551f84775arow1_col6\" class=\"data row1 col6\" >nan</td>\n",
       "                        <td id=\"T_c5c41b26_559c_11f0_a617_ce551f84775arow1_col7\" class=\"data row1 col7\" >nan</td>\n",
       "                        <td id=\"T_c5c41b26_559c_11f0_a617_ce551f84775arow1_col8\" class=\"data row1 col8\" >nan</td>\n",
       "                        <td id=\"T_c5c41b26_559c_11f0_a617_ce551f84775arow1_col9\" class=\"data row1 col9\" >nan</td>\n",
       "                        <td id=\"T_c5c41b26_559c_11f0_a617_ce551f84775arow1_col10\" class=\"data row1 col10\" >Fatal(4)</td>\n",
       "                        <td id=\"T_c5c41b26_559c_11f0_a617_ce551f84775arow1_col11\" class=\"data row1 col11\" >Destroyed</td>\n",
       "                        <td id=\"T_c5c41b26_559c_11f0_a617_ce551f84775arow1_col12\" class=\"data row1 col12\" >nan</td>\n",
       "                        <td id=\"T_c5c41b26_559c_11f0_a617_ce551f84775arow1_col13\" class=\"data row1 col13\" >N5069P</td>\n",
       "                        <td id=\"T_c5c41b26_559c_11f0_a617_ce551f84775arow1_col14\" class=\"data row1 col14\" >Piper</td>\n",
       "                        <td id=\"T_c5c41b26_559c_11f0_a617_ce551f84775arow1_col15\" class=\"data row1 col15\" >PA24-180</td>\n",
       "                        <td id=\"T_c5c41b26_559c_11f0_a617_ce551f84775arow1_col16\" class=\"data row1 col16\" >No</td>\n",
       "                        <td id=\"T_c5c41b26_559c_11f0_a617_ce551f84775arow1_col17\" class=\"data row1 col17\" >1.000000</td>\n",
       "                        <td id=\"T_c5c41b26_559c_11f0_a617_ce551f84775arow1_col18\" class=\"data row1 col18\" >Reciprocating</td>\n",
       "                        <td id=\"T_c5c41b26_559c_11f0_a617_ce551f84775arow1_col19\" class=\"data row1 col19\" >nan</td>\n",
       "                        <td id=\"T_c5c41b26_559c_11f0_a617_ce551f84775arow1_col20\" class=\"data row1 col20\" >nan</td>\n",
       "                        <td id=\"T_c5c41b26_559c_11f0_a617_ce551f84775arow1_col21\" class=\"data row1 col21\" >Personal</td>\n",
       "                        <td id=\"T_c5c41b26_559c_11f0_a617_ce551f84775arow1_col22\" class=\"data row1 col22\" >nan</td>\n",
       "                        <td id=\"T_c5c41b26_559c_11f0_a617_ce551f84775arow1_col23\" class=\"data row1 col23\" >4.000000</td>\n",
       "                        <td id=\"T_c5c41b26_559c_11f0_a617_ce551f84775arow1_col24\" class=\"data row1 col24\" >0.000000</td>\n",
       "                        <td id=\"T_c5c41b26_559c_11f0_a617_ce551f84775arow1_col25\" class=\"data row1 col25\" >0.000000</td>\n",
       "                        <td id=\"T_c5c41b26_559c_11f0_a617_ce551f84775arow1_col26\" class=\"data row1 col26\" >0.000000</td>\n",
       "                        <td id=\"T_c5c41b26_559c_11f0_a617_ce551f84775arow1_col27\" class=\"data row1 col27\" >UNK</td>\n",
       "                        <td id=\"T_c5c41b26_559c_11f0_a617_ce551f84775arow1_col28\" class=\"data row1 col28\" >Unknown</td>\n",
       "                        <td id=\"T_c5c41b26_559c_11f0_a617_ce551f84775arow1_col29\" class=\"data row1 col29\" >Probable Cause</td>\n",
       "                        <td id=\"T_c5c41b26_559c_11f0_a617_ce551f84775arow1_col30\" class=\"data row1 col30\" >19-09-1996</td>\n",
       "            </tr>\n",
       "            <tr>\n",
       "                        <th id=\"T_c5c41b26_559c_11f0_a617_ce551f84775alevel0_row2\" class=\"row_heading level0 row2\" >2</th>\n",
       "                        <td id=\"T_c5c41b26_559c_11f0_a617_ce551f84775arow2_col0\" class=\"data row2 col0\" >20061025X01555</td>\n",
       "                        <td id=\"T_c5c41b26_559c_11f0_a617_ce551f84775arow2_col1\" class=\"data row2 col1\" >Accident</td>\n",
       "                        <td id=\"T_c5c41b26_559c_11f0_a617_ce551f84775arow2_col2\" class=\"data row2 col2\" >NYC07LA005</td>\n",
       "                        <td id=\"T_c5c41b26_559c_11f0_a617_ce551f84775arow2_col3\" class=\"data row2 col3\" >1974-08-30</td>\n",
       "                        <td id=\"T_c5c41b26_559c_11f0_a617_ce551f84775arow2_col4\" class=\"data row2 col4\" >Saltville, VA</td>\n",
       "                        <td id=\"T_c5c41b26_559c_11f0_a617_ce551f84775arow2_col5\" class=\"data row2 col5\" >United States</td>\n",
       "                        <td id=\"T_c5c41b26_559c_11f0_a617_ce551f84775arow2_col6\" class=\"data row2 col6\" >36.922223</td>\n",
       "                        <td id=\"T_c5c41b26_559c_11f0_a617_ce551f84775arow2_col7\" class=\"data row2 col7\" >-81.878056</td>\n",
       "                        <td id=\"T_c5c41b26_559c_11f0_a617_ce551f84775arow2_col8\" class=\"data row2 col8\" >nan</td>\n",
       "                        <td id=\"T_c5c41b26_559c_11f0_a617_ce551f84775arow2_col9\" class=\"data row2 col9\" >nan</td>\n",
       "                        <td id=\"T_c5c41b26_559c_11f0_a617_ce551f84775arow2_col10\" class=\"data row2 col10\" >Fatal(3)</td>\n",
       "                        <td id=\"T_c5c41b26_559c_11f0_a617_ce551f84775arow2_col11\" class=\"data row2 col11\" >Destroyed</td>\n",
       "                        <td id=\"T_c5c41b26_559c_11f0_a617_ce551f84775arow2_col12\" class=\"data row2 col12\" >nan</td>\n",
       "                        <td id=\"T_c5c41b26_559c_11f0_a617_ce551f84775arow2_col13\" class=\"data row2 col13\" >N5142R</td>\n",
       "                        <td id=\"T_c5c41b26_559c_11f0_a617_ce551f84775arow2_col14\" class=\"data row2 col14\" >Cessna</td>\n",
       "                        <td id=\"T_c5c41b26_559c_11f0_a617_ce551f84775arow2_col15\" class=\"data row2 col15\" >172M</td>\n",
       "                        <td id=\"T_c5c41b26_559c_11f0_a617_ce551f84775arow2_col16\" class=\"data row2 col16\" >No</td>\n",
       "                        <td id=\"T_c5c41b26_559c_11f0_a617_ce551f84775arow2_col17\" class=\"data row2 col17\" >1.000000</td>\n",
       "                        <td id=\"T_c5c41b26_559c_11f0_a617_ce551f84775arow2_col18\" class=\"data row2 col18\" >Reciprocating</td>\n",
       "                        <td id=\"T_c5c41b26_559c_11f0_a617_ce551f84775arow2_col19\" class=\"data row2 col19\" >nan</td>\n",
       "                        <td id=\"T_c5c41b26_559c_11f0_a617_ce551f84775arow2_col20\" class=\"data row2 col20\" >nan</td>\n",
       "                        <td id=\"T_c5c41b26_559c_11f0_a617_ce551f84775arow2_col21\" class=\"data row2 col21\" >Personal</td>\n",
       "                        <td id=\"T_c5c41b26_559c_11f0_a617_ce551f84775arow2_col22\" class=\"data row2 col22\" >nan</td>\n",
       "                        <td id=\"T_c5c41b26_559c_11f0_a617_ce551f84775arow2_col23\" class=\"data row2 col23\" >3.000000</td>\n",
       "                        <td id=\"T_c5c41b26_559c_11f0_a617_ce551f84775arow2_col24\" class=\"data row2 col24\" >nan</td>\n",
       "                        <td id=\"T_c5c41b26_559c_11f0_a617_ce551f84775arow2_col25\" class=\"data row2 col25\" >nan</td>\n",
       "                        <td id=\"T_c5c41b26_559c_11f0_a617_ce551f84775arow2_col26\" class=\"data row2 col26\" >nan</td>\n",
       "                        <td id=\"T_c5c41b26_559c_11f0_a617_ce551f84775arow2_col27\" class=\"data row2 col27\" >IMC</td>\n",
       "                        <td id=\"T_c5c41b26_559c_11f0_a617_ce551f84775arow2_col28\" class=\"data row2 col28\" >Cruise</td>\n",
       "                        <td id=\"T_c5c41b26_559c_11f0_a617_ce551f84775arow2_col29\" class=\"data row2 col29\" >Probable Cause</td>\n",
       "                        <td id=\"T_c5c41b26_559c_11f0_a617_ce551f84775arow2_col30\" class=\"data row2 col30\" >26-02-2007</td>\n",
       "            </tr>\n",
       "            <tr>\n",
       "                        <th id=\"T_c5c41b26_559c_11f0_a617_ce551f84775alevel0_row3\" class=\"row_heading level0 row3\" >3</th>\n",
       "                        <td id=\"T_c5c41b26_559c_11f0_a617_ce551f84775arow3_col0\" class=\"data row3 col0\" >20001218X45448</td>\n",
       "                        <td id=\"T_c5c41b26_559c_11f0_a617_ce551f84775arow3_col1\" class=\"data row3 col1\" >Accident</td>\n",
       "                        <td id=\"T_c5c41b26_559c_11f0_a617_ce551f84775arow3_col2\" class=\"data row3 col2\" >LAX96LA321</td>\n",
       "                        <td id=\"T_c5c41b26_559c_11f0_a617_ce551f84775arow3_col3\" class=\"data row3 col3\" >1977-06-19</td>\n",
       "                        <td id=\"T_c5c41b26_559c_11f0_a617_ce551f84775arow3_col4\" class=\"data row3 col4\" >EUREKA, CA</td>\n",
       "                        <td id=\"T_c5c41b26_559c_11f0_a617_ce551f84775arow3_col5\" class=\"data row3 col5\" >United States</td>\n",
       "                        <td id=\"T_c5c41b26_559c_11f0_a617_ce551f84775arow3_col6\" class=\"data row3 col6\" >nan</td>\n",
       "                        <td id=\"T_c5c41b26_559c_11f0_a617_ce551f84775arow3_col7\" class=\"data row3 col7\" >nan</td>\n",
       "                        <td id=\"T_c5c41b26_559c_11f0_a617_ce551f84775arow3_col8\" class=\"data row3 col8\" >nan</td>\n",
       "                        <td id=\"T_c5c41b26_559c_11f0_a617_ce551f84775arow3_col9\" class=\"data row3 col9\" >nan</td>\n",
       "                        <td id=\"T_c5c41b26_559c_11f0_a617_ce551f84775arow3_col10\" class=\"data row3 col10\" >Fatal(2)</td>\n",
       "                        <td id=\"T_c5c41b26_559c_11f0_a617_ce551f84775arow3_col11\" class=\"data row3 col11\" >Destroyed</td>\n",
       "                        <td id=\"T_c5c41b26_559c_11f0_a617_ce551f84775arow3_col12\" class=\"data row3 col12\" >nan</td>\n",
       "                        <td id=\"T_c5c41b26_559c_11f0_a617_ce551f84775arow3_col13\" class=\"data row3 col13\" >N1168J</td>\n",
       "                        <td id=\"T_c5c41b26_559c_11f0_a617_ce551f84775arow3_col14\" class=\"data row3 col14\" >Rockwell</td>\n",
       "                        <td id=\"T_c5c41b26_559c_11f0_a617_ce551f84775arow3_col15\" class=\"data row3 col15\" >112</td>\n",
       "                        <td id=\"T_c5c41b26_559c_11f0_a617_ce551f84775arow3_col16\" class=\"data row3 col16\" >No</td>\n",
       "                        <td id=\"T_c5c41b26_559c_11f0_a617_ce551f84775arow3_col17\" class=\"data row3 col17\" >1.000000</td>\n",
       "                        <td id=\"T_c5c41b26_559c_11f0_a617_ce551f84775arow3_col18\" class=\"data row3 col18\" >Reciprocating</td>\n",
       "                        <td id=\"T_c5c41b26_559c_11f0_a617_ce551f84775arow3_col19\" class=\"data row3 col19\" >nan</td>\n",
       "                        <td id=\"T_c5c41b26_559c_11f0_a617_ce551f84775arow3_col20\" class=\"data row3 col20\" >nan</td>\n",
       "                        <td id=\"T_c5c41b26_559c_11f0_a617_ce551f84775arow3_col21\" class=\"data row3 col21\" >Personal</td>\n",
       "                        <td id=\"T_c5c41b26_559c_11f0_a617_ce551f84775arow3_col22\" class=\"data row3 col22\" >nan</td>\n",
       "                        <td id=\"T_c5c41b26_559c_11f0_a617_ce551f84775arow3_col23\" class=\"data row3 col23\" >2.000000</td>\n",
       "                        <td id=\"T_c5c41b26_559c_11f0_a617_ce551f84775arow3_col24\" class=\"data row3 col24\" >0.000000</td>\n",
       "                        <td id=\"T_c5c41b26_559c_11f0_a617_ce551f84775arow3_col25\" class=\"data row3 col25\" >0.000000</td>\n",
       "                        <td id=\"T_c5c41b26_559c_11f0_a617_ce551f84775arow3_col26\" class=\"data row3 col26\" >0.000000</td>\n",
       "                        <td id=\"T_c5c41b26_559c_11f0_a617_ce551f84775arow3_col27\" class=\"data row3 col27\" >IMC</td>\n",
       "                        <td id=\"T_c5c41b26_559c_11f0_a617_ce551f84775arow3_col28\" class=\"data row3 col28\" >Cruise</td>\n",
       "                        <td id=\"T_c5c41b26_559c_11f0_a617_ce551f84775arow3_col29\" class=\"data row3 col29\" >Probable Cause</td>\n",
       "                        <td id=\"T_c5c41b26_559c_11f0_a617_ce551f84775arow3_col30\" class=\"data row3 col30\" >12-09-2000</td>\n",
       "            </tr>\n",
       "            <tr>\n",
       "                        <th id=\"T_c5c41b26_559c_11f0_a617_ce551f84775alevel0_row4\" class=\"row_heading level0 row4\" >4</th>\n",
       "                        <td id=\"T_c5c41b26_559c_11f0_a617_ce551f84775arow4_col0\" class=\"data row4 col0\" >20041105X01764</td>\n",
       "                        <td id=\"T_c5c41b26_559c_11f0_a617_ce551f84775arow4_col1\" class=\"data row4 col1\" >Accident</td>\n",
       "                        <td id=\"T_c5c41b26_559c_11f0_a617_ce551f84775arow4_col2\" class=\"data row4 col2\" >CHI79FA064</td>\n",
       "                        <td id=\"T_c5c41b26_559c_11f0_a617_ce551f84775arow4_col3\" class=\"data row4 col3\" >1979-08-02</td>\n",
       "                        <td id=\"T_c5c41b26_559c_11f0_a617_ce551f84775arow4_col4\" class=\"data row4 col4\" >Canton, OH</td>\n",
       "                        <td id=\"T_c5c41b26_559c_11f0_a617_ce551f84775arow4_col5\" class=\"data row4 col5\" >United States</td>\n",
       "                        <td id=\"T_c5c41b26_559c_11f0_a617_ce551f84775arow4_col6\" class=\"data row4 col6\" >nan</td>\n",
       "                        <td id=\"T_c5c41b26_559c_11f0_a617_ce551f84775arow4_col7\" class=\"data row4 col7\" >nan</td>\n",
       "                        <td id=\"T_c5c41b26_559c_11f0_a617_ce551f84775arow4_col8\" class=\"data row4 col8\" >nan</td>\n",
       "                        <td id=\"T_c5c41b26_559c_11f0_a617_ce551f84775arow4_col9\" class=\"data row4 col9\" >nan</td>\n",
       "                        <td id=\"T_c5c41b26_559c_11f0_a617_ce551f84775arow4_col10\" class=\"data row4 col10\" >Fatal(1)</td>\n",
       "                        <td id=\"T_c5c41b26_559c_11f0_a617_ce551f84775arow4_col11\" class=\"data row4 col11\" >Destroyed</td>\n",
       "                        <td id=\"T_c5c41b26_559c_11f0_a617_ce551f84775arow4_col12\" class=\"data row4 col12\" >nan</td>\n",
       "                        <td id=\"T_c5c41b26_559c_11f0_a617_ce551f84775arow4_col13\" class=\"data row4 col13\" >N15NY</td>\n",
       "                        <td id=\"T_c5c41b26_559c_11f0_a617_ce551f84775arow4_col14\" class=\"data row4 col14\" >Cessna</td>\n",
       "                        <td id=\"T_c5c41b26_559c_11f0_a617_ce551f84775arow4_col15\" class=\"data row4 col15\" >501</td>\n",
       "                        <td id=\"T_c5c41b26_559c_11f0_a617_ce551f84775arow4_col16\" class=\"data row4 col16\" >No</td>\n",
       "                        <td id=\"T_c5c41b26_559c_11f0_a617_ce551f84775arow4_col17\" class=\"data row4 col17\" >nan</td>\n",
       "                        <td id=\"T_c5c41b26_559c_11f0_a617_ce551f84775arow4_col18\" class=\"data row4 col18\" >nan</td>\n",
       "                        <td id=\"T_c5c41b26_559c_11f0_a617_ce551f84775arow4_col19\" class=\"data row4 col19\" >nan</td>\n",
       "                        <td id=\"T_c5c41b26_559c_11f0_a617_ce551f84775arow4_col20\" class=\"data row4 col20\" >nan</td>\n",
       "                        <td id=\"T_c5c41b26_559c_11f0_a617_ce551f84775arow4_col21\" class=\"data row4 col21\" >Personal</td>\n",
       "                        <td id=\"T_c5c41b26_559c_11f0_a617_ce551f84775arow4_col22\" class=\"data row4 col22\" >nan</td>\n",
       "                        <td id=\"T_c5c41b26_559c_11f0_a617_ce551f84775arow4_col23\" class=\"data row4 col23\" >1.000000</td>\n",
       "                        <td id=\"T_c5c41b26_559c_11f0_a617_ce551f84775arow4_col24\" class=\"data row4 col24\" >2.000000</td>\n",
       "                        <td id=\"T_c5c41b26_559c_11f0_a617_ce551f84775arow4_col25\" class=\"data row4 col25\" >nan</td>\n",
       "                        <td id=\"T_c5c41b26_559c_11f0_a617_ce551f84775arow4_col26\" class=\"data row4 col26\" >0.000000</td>\n",
       "                        <td id=\"T_c5c41b26_559c_11f0_a617_ce551f84775arow4_col27\" class=\"data row4 col27\" >VMC</td>\n",
       "                        <td id=\"T_c5c41b26_559c_11f0_a617_ce551f84775arow4_col28\" class=\"data row4 col28\" >Approach</td>\n",
       "                        <td id=\"T_c5c41b26_559c_11f0_a617_ce551f84775arow4_col29\" class=\"data row4 col29\" >Probable Cause</td>\n",
       "                        <td id=\"T_c5c41b26_559c_11f0_a617_ce551f84775arow4_col30\" class=\"data row4 col30\" >16-04-1980</td>\n",
       "            </tr>\n",
       "    </tbody></table>"
      ],
      "text/plain": [
       "<pandas.io.formats.style.Styler at 0x7fe6e5b2cb20>"
      ]
     },
     "metadata": {},
     "output_type": "display_data"
    }
   ],
   "source": [
    "display_highlight(\"Sample Data Preview:\")\n",
    "display(df.head().style.set_properties(**{\n",
    "    'font-family': 'Poppins',\n",
    "    'font-size': '12px',\n",
    "    'background-color': '#f9f9f9',\n",
    "    'border': '1px solid #eee'\n",
    "}).set_table_styles([{\n",
    "    'selector': 'th',\n",
    "    'props': [('background-color', '#1a5276'), \n",
    "              ('color', 'white'),\n",
    "              ('font-weight', '600')]\n",
    "}]))"
   ]
  },
  {
   "cell_type": "code",
   "execution_count": 9,
   "metadata": {},
   "outputs": [
    {
     "data": {
      "text/html": [
       "<div class=\"monalisa-highlight\">✓ Filtered to 21,300 records from 2010–2023</div>"
      ],
      "text/plain": [
       "<IPython.core.display.HTML object>"
      ]
     },
     "metadata": {},
     "output_type": "display_data"
    }
   ],
   "source": [
    "# Filter for 2010–2023\n",
    "df['event_date'] = pd.to_datetime(df['event_date'], errors='coerce')\n",
    "df = df[df['event_date'].dt.year.between(2010, 2023)]\n",
    "display_highlight(f\"✓ Filtered to {len(df):,} records from 2010–2023\")\n"
   ]
  },
  {
   "cell_type": "code",
   "execution_count": 10,
   "metadata": {},
   "outputs": [],
   "source": [
    "# Create aircraft column by combining Make and Model\n",
    "df['aircraft'] = df['make'].str.strip().str.title() + ' ' + df['model'].str.strip().str.upper()\n",
    "df['aircraft'] = df['aircraft'].fillna('Unknown')\n"
   ]
  },
  {
   "cell_type": "code",
   "execution_count": 11,
   "metadata": {},
   "outputs": [],
   "source": [
    "# Select relevant columns\n",
    "relevant_columns = [\n",
    "    'event_date', 'aircraft', 'make', 'model', 'aircraft_category',\n",
    "    'injury_severity', 'total_fatal_injuries', 'total_serious_injuries',\n",
    "    'total_minor_injuries', 'total_uninjured', 'broad_phase_of_flight',\n",
    "    'aircraft_damage', 'event_id'\n",
    "]\n",
    "df = df[relevant_columns]\n"
   ]
  },
  {
   "cell_type": "code",
   "execution_count": 12,
   "metadata": {},
   "outputs": [
    {
     "data": {
      "text/html": [
       "<div class=\"monalisa-highlight\">✓ Selected 17,807 airplane records with 13 columns</div>"
      ],
      "text/plain": [
       "<IPython.core.display.HTML object>"
      ]
     },
     "metadata": {},
     "output_type": "display_data"
    }
   ],
   "source": [
    "# Filter for airplanes (exclude helicopters, balloons, etc.)\n",
    "df = df[df['aircraft_category'].str.contains('Airplane', na=False)]\n",
    "display_highlight(f\"✓ Selected {len(df):,} airplane records with {len(relevant_columns)} columns\")\n"
   ]
  },
  {
   "cell_type": "code",
   "execution_count": 13,
   "metadata": {},
   "outputs": [
    {
     "data": {
      "text/html": [
       "<style  type=\"text/css\" >\n",
       "    #T_c5e07bc2_559c_11f0_a617_ce551f84775a th {\n",
       "          background-color: #1a5276;\n",
       "          color: white;\n",
       "          font-weight: 600;\n",
       "    }#T_c5e07bc2_559c_11f0_a617_ce551f84775arow0_col0,#T_c5e07bc2_559c_11f0_a617_ce551f84775arow0_col1,#T_c5e07bc2_559c_11f0_a617_ce551f84775arow0_col2,#T_c5e07bc2_559c_11f0_a617_ce551f84775arow0_col3,#T_c5e07bc2_559c_11f0_a617_ce551f84775arow0_col4,#T_c5e07bc2_559c_11f0_a617_ce551f84775arow0_col5,#T_c5e07bc2_559c_11f0_a617_ce551f84775arow0_col6,#T_c5e07bc2_559c_11f0_a617_ce551f84775arow0_col7,#T_c5e07bc2_559c_11f0_a617_ce551f84775arow0_col8,#T_c5e07bc2_559c_11f0_a617_ce551f84775arow0_col9,#T_c5e07bc2_559c_11f0_a617_ce551f84775arow0_col10,#T_c5e07bc2_559c_11f0_a617_ce551f84775arow0_col11,#T_c5e07bc2_559c_11f0_a617_ce551f84775arow0_col12,#T_c5e07bc2_559c_11f0_a617_ce551f84775arow1_col0,#T_c5e07bc2_559c_11f0_a617_ce551f84775arow1_col1,#T_c5e07bc2_559c_11f0_a617_ce551f84775arow1_col2,#T_c5e07bc2_559c_11f0_a617_ce551f84775arow1_col3,#T_c5e07bc2_559c_11f0_a617_ce551f84775arow1_col4,#T_c5e07bc2_559c_11f0_a617_ce551f84775arow1_col5,#T_c5e07bc2_559c_11f0_a617_ce551f84775arow1_col6,#T_c5e07bc2_559c_11f0_a617_ce551f84775arow1_col7,#T_c5e07bc2_559c_11f0_a617_ce551f84775arow1_col8,#T_c5e07bc2_559c_11f0_a617_ce551f84775arow1_col9,#T_c5e07bc2_559c_11f0_a617_ce551f84775arow1_col10,#T_c5e07bc2_559c_11f0_a617_ce551f84775arow1_col11,#T_c5e07bc2_559c_11f0_a617_ce551f84775arow1_col12,#T_c5e07bc2_559c_11f0_a617_ce551f84775arow2_col0,#T_c5e07bc2_559c_11f0_a617_ce551f84775arow2_col1,#T_c5e07bc2_559c_11f0_a617_ce551f84775arow2_col2,#T_c5e07bc2_559c_11f0_a617_ce551f84775arow2_col3,#T_c5e07bc2_559c_11f0_a617_ce551f84775arow2_col4,#T_c5e07bc2_559c_11f0_a617_ce551f84775arow2_col5,#T_c5e07bc2_559c_11f0_a617_ce551f84775arow2_col6,#T_c5e07bc2_559c_11f0_a617_ce551f84775arow2_col7,#T_c5e07bc2_559c_11f0_a617_ce551f84775arow2_col8,#T_c5e07bc2_559c_11f0_a617_ce551f84775arow2_col9,#T_c5e07bc2_559c_11f0_a617_ce551f84775arow2_col10,#T_c5e07bc2_559c_11f0_a617_ce551f84775arow2_col11,#T_c5e07bc2_559c_11f0_a617_ce551f84775arow2_col12,#T_c5e07bc2_559c_11f0_a617_ce551f84775arow3_col0,#T_c5e07bc2_559c_11f0_a617_ce551f84775arow3_col1,#T_c5e07bc2_559c_11f0_a617_ce551f84775arow3_col2,#T_c5e07bc2_559c_11f0_a617_ce551f84775arow3_col3,#T_c5e07bc2_559c_11f0_a617_ce551f84775arow3_col4,#T_c5e07bc2_559c_11f0_a617_ce551f84775arow3_col5,#T_c5e07bc2_559c_11f0_a617_ce551f84775arow3_col6,#T_c5e07bc2_559c_11f0_a617_ce551f84775arow3_col7,#T_c5e07bc2_559c_11f0_a617_ce551f84775arow3_col8,#T_c5e07bc2_559c_11f0_a617_ce551f84775arow3_col9,#T_c5e07bc2_559c_11f0_a617_ce551f84775arow3_col10,#T_c5e07bc2_559c_11f0_a617_ce551f84775arow3_col11,#T_c5e07bc2_559c_11f0_a617_ce551f84775arow3_col12,#T_c5e07bc2_559c_11f0_a617_ce551f84775arow4_col0,#T_c5e07bc2_559c_11f0_a617_ce551f84775arow4_col1,#T_c5e07bc2_559c_11f0_a617_ce551f84775arow4_col2,#T_c5e07bc2_559c_11f0_a617_ce551f84775arow4_col3,#T_c5e07bc2_559c_11f0_a617_ce551f84775arow4_col4,#T_c5e07bc2_559c_11f0_a617_ce551f84775arow4_col5,#T_c5e07bc2_559c_11f0_a617_ce551f84775arow4_col6,#T_c5e07bc2_559c_11f0_a617_ce551f84775arow4_col7,#T_c5e07bc2_559c_11f0_a617_ce551f84775arow4_col8,#T_c5e07bc2_559c_11f0_a617_ce551f84775arow4_col9,#T_c5e07bc2_559c_11f0_a617_ce551f84775arow4_col10,#T_c5e07bc2_559c_11f0_a617_ce551f84775arow4_col11,#T_c5e07bc2_559c_11f0_a617_ce551f84775arow4_col12{\n",
       "            font-family:  Poppins;\n",
       "            font-size:  12px;\n",
       "            background-color:  #f9f9f9;\n",
       "            border:  1px solid #eee;\n",
       "        }</style><table id=\"T_c5e07bc2_559c_11f0_a617_ce551f84775a\" ><thead>    <tr>        <th class=\"blank level0\" ></th>        <th class=\"col_heading level0 col0\" >event_date</th>        <th class=\"col_heading level0 col1\" >aircraft</th>        <th class=\"col_heading level0 col2\" >make</th>        <th class=\"col_heading level0 col3\" >model</th>        <th class=\"col_heading level0 col4\" >aircraft_category</th>        <th class=\"col_heading level0 col5\" >injury_severity</th>        <th class=\"col_heading level0 col6\" >total_fatal_injuries</th>        <th class=\"col_heading level0 col7\" >total_serious_injuries</th>        <th class=\"col_heading level0 col8\" >total_minor_injuries</th>        <th class=\"col_heading level0 col9\" >total_uninjured</th>        <th class=\"col_heading level0 col10\" >broad_phase_of_flight</th>        <th class=\"col_heading level0 col11\" >aircraft_damage</th>        <th class=\"col_heading level0 col12\" >event_id</th>    </tr></thead><tbody>\n",
       "                <tr>\n",
       "                        <th id=\"T_c5e07bc2_559c_11f0_a617_ce551f84775alevel0_row0\" class=\"row_heading level0 row0\" >67590</th>\n",
       "                        <td id=\"T_c5e07bc2_559c_11f0_a617_ce551f84775arow0_col0\" class=\"data row0 col0\" >2010-01-01 00:00:00</td>\n",
       "                        <td id=\"T_c5e07bc2_559c_11f0_a617_ce551f84775arow0_col1\" class=\"data row0 col1\" >Cessna 150G</td>\n",
       "                        <td id=\"T_c5e07bc2_559c_11f0_a617_ce551f84775arow0_col2\" class=\"data row0 col2\" >CESSNA</td>\n",
       "                        <td id=\"T_c5e07bc2_559c_11f0_a617_ce551f84775arow0_col3\" class=\"data row0 col3\" >150G</td>\n",
       "                        <td id=\"T_c5e07bc2_559c_11f0_a617_ce551f84775arow0_col4\" class=\"data row0 col4\" >Airplane</td>\n",
       "                        <td id=\"T_c5e07bc2_559c_11f0_a617_ce551f84775arow0_col5\" class=\"data row0 col5\" >Non-Fatal</td>\n",
       "                        <td id=\"T_c5e07bc2_559c_11f0_a617_ce551f84775arow0_col6\" class=\"data row0 col6\" >0.000000</td>\n",
       "                        <td id=\"T_c5e07bc2_559c_11f0_a617_ce551f84775arow0_col7\" class=\"data row0 col7\" >0.000000</td>\n",
       "                        <td id=\"T_c5e07bc2_559c_11f0_a617_ce551f84775arow0_col8\" class=\"data row0 col8\" >0.000000</td>\n",
       "                        <td id=\"T_c5e07bc2_559c_11f0_a617_ce551f84775arow0_col9\" class=\"data row0 col9\" >2.000000</td>\n",
       "                        <td id=\"T_c5e07bc2_559c_11f0_a617_ce551f84775arow0_col10\" class=\"data row0 col10\" >nan</td>\n",
       "                        <td id=\"T_c5e07bc2_559c_11f0_a617_ce551f84775arow0_col11\" class=\"data row0 col11\" >Substantial</td>\n",
       "                        <td id=\"T_c5e07bc2_559c_11f0_a617_ce551f84775arow0_col12\" class=\"data row0 col12\" >20100104X13404</td>\n",
       "            </tr>\n",
       "            <tr>\n",
       "                        <th id=\"T_c5e07bc2_559c_11f0_a617_ce551f84775alevel0_row1\" class=\"row_heading level0 row1\" >67591</th>\n",
       "                        <td id=\"T_c5e07bc2_559c_11f0_a617_ce551f84775arow1_col0\" class=\"data row1 col0\" >2010-01-01 00:00:00</td>\n",
       "                        <td id=\"T_c5e07bc2_559c_11f0_a617_ce551f84775arow1_col1\" class=\"data row1 col1\" >Piper PA-32R-300</td>\n",
       "                        <td id=\"T_c5e07bc2_559c_11f0_a617_ce551f84775arow1_col2\" class=\"data row1 col2\" >PIPER</td>\n",
       "                        <td id=\"T_c5e07bc2_559c_11f0_a617_ce551f84775arow1_col3\" class=\"data row1 col3\" >PA-32R-300</td>\n",
       "                        <td id=\"T_c5e07bc2_559c_11f0_a617_ce551f84775arow1_col4\" class=\"data row1 col4\" >Airplane</td>\n",
       "                        <td id=\"T_c5e07bc2_559c_11f0_a617_ce551f84775arow1_col5\" class=\"data row1 col5\" >Non-Fatal</td>\n",
       "                        <td id=\"T_c5e07bc2_559c_11f0_a617_ce551f84775arow1_col6\" class=\"data row1 col6\" >0.000000</td>\n",
       "                        <td id=\"T_c5e07bc2_559c_11f0_a617_ce551f84775arow1_col7\" class=\"data row1 col7\" >0.000000</td>\n",
       "                        <td id=\"T_c5e07bc2_559c_11f0_a617_ce551f84775arow1_col8\" class=\"data row1 col8\" >0.000000</td>\n",
       "                        <td id=\"T_c5e07bc2_559c_11f0_a617_ce551f84775arow1_col9\" class=\"data row1 col9\" >1.000000</td>\n",
       "                        <td id=\"T_c5e07bc2_559c_11f0_a617_ce551f84775arow1_col10\" class=\"data row1 col10\" >nan</td>\n",
       "                        <td id=\"T_c5e07bc2_559c_11f0_a617_ce551f84775arow1_col11\" class=\"data row1 col11\" >Substantial</td>\n",
       "                        <td id=\"T_c5e07bc2_559c_11f0_a617_ce551f84775arow1_col12\" class=\"data row1 col12\" >20100106X32329</td>\n",
       "            </tr>\n",
       "            <tr>\n",
       "                        <th id=\"T_c5e07bc2_559c_11f0_a617_ce551f84775alevel0_row2\" class=\"row_heading level0 row2\" >67592</th>\n",
       "                        <td id=\"T_c5e07bc2_559c_11f0_a617_ce551f84775arow2_col0\" class=\"data row2 col0\" >2010-01-02 00:00:00</td>\n",
       "                        <td id=\"T_c5e07bc2_559c_11f0_a617_ce551f84775arow2_col1\" class=\"data row2 col1\" >Fairchild SA227</td>\n",
       "                        <td id=\"T_c5e07bc2_559c_11f0_a617_ce551f84775arow2_col2\" class=\"data row2 col2\" >FAIRCHILD</td>\n",
       "                        <td id=\"T_c5e07bc2_559c_11f0_a617_ce551f84775arow2_col3\" class=\"data row2 col3\" >SA227</td>\n",
       "                        <td id=\"T_c5e07bc2_559c_11f0_a617_ce551f84775arow2_col4\" class=\"data row2 col4\" >Airplane</td>\n",
       "                        <td id=\"T_c5e07bc2_559c_11f0_a617_ce551f84775arow2_col5\" class=\"data row2 col5\" >Non-Fatal</td>\n",
       "                        <td id=\"T_c5e07bc2_559c_11f0_a617_ce551f84775arow2_col6\" class=\"data row2 col6\" >0.000000</td>\n",
       "                        <td id=\"T_c5e07bc2_559c_11f0_a617_ce551f84775arow2_col7\" class=\"data row2 col7\" >0.000000</td>\n",
       "                        <td id=\"T_c5e07bc2_559c_11f0_a617_ce551f84775arow2_col8\" class=\"data row2 col8\" >0.000000</td>\n",
       "                        <td id=\"T_c5e07bc2_559c_11f0_a617_ce551f84775arow2_col9\" class=\"data row2 col9\" >3.000000</td>\n",
       "                        <td id=\"T_c5e07bc2_559c_11f0_a617_ce551f84775arow2_col10\" class=\"data row2 col10\" >nan</td>\n",
       "                        <td id=\"T_c5e07bc2_559c_11f0_a617_ce551f84775arow2_col11\" class=\"data row2 col11\" >Substantial</td>\n",
       "                        <td id=\"T_c5e07bc2_559c_11f0_a617_ce551f84775arow2_col12\" class=\"data row2 col12\" >20100103X60452</td>\n",
       "            </tr>\n",
       "            <tr>\n",
       "                        <th id=\"T_c5e07bc2_559c_11f0_a617_ce551f84775alevel0_row3\" class=\"row_heading level0 row3\" >67593</th>\n",
       "                        <td id=\"T_c5e07bc2_559c_11f0_a617_ce551f84775arow3_col0\" class=\"data row3 col0\" >2010-01-02 00:00:00</td>\n",
       "                        <td id=\"T_c5e07bc2_559c_11f0_a617_ce551f84775arow3_col1\" class=\"data row3 col1\" >Maule M-4-220C</td>\n",
       "                        <td id=\"T_c5e07bc2_559c_11f0_a617_ce551f84775arow3_col2\" class=\"data row3 col2\" >MAULE</td>\n",
       "                        <td id=\"T_c5e07bc2_559c_11f0_a617_ce551f84775arow3_col3\" class=\"data row3 col3\" >M-4-220C</td>\n",
       "                        <td id=\"T_c5e07bc2_559c_11f0_a617_ce551f84775arow3_col4\" class=\"data row3 col4\" >Airplane</td>\n",
       "                        <td id=\"T_c5e07bc2_559c_11f0_a617_ce551f84775arow3_col5\" class=\"data row3 col5\" >Non-Fatal</td>\n",
       "                        <td id=\"T_c5e07bc2_559c_11f0_a617_ce551f84775arow3_col6\" class=\"data row3 col6\" >0.000000</td>\n",
       "                        <td id=\"T_c5e07bc2_559c_11f0_a617_ce551f84775arow3_col7\" class=\"data row3 col7\" >0.000000</td>\n",
       "                        <td id=\"T_c5e07bc2_559c_11f0_a617_ce551f84775arow3_col8\" class=\"data row3 col8\" >0.000000</td>\n",
       "                        <td id=\"T_c5e07bc2_559c_11f0_a617_ce551f84775arow3_col9\" class=\"data row3 col9\" >3.000000</td>\n",
       "                        <td id=\"T_c5e07bc2_559c_11f0_a617_ce551f84775arow3_col10\" class=\"data row3 col10\" >nan</td>\n",
       "                        <td id=\"T_c5e07bc2_559c_11f0_a617_ce551f84775arow3_col11\" class=\"data row3 col11\" >Substantial</td>\n",
       "                        <td id=\"T_c5e07bc2_559c_11f0_a617_ce551f84775arow3_col12\" class=\"data row3 col12\" >20100105X60423</td>\n",
       "            </tr>\n",
       "            <tr>\n",
       "                        <th id=\"T_c5e07bc2_559c_11f0_a617_ce551f84775alevel0_row4\" class=\"row_heading level0 row4\" >67595</th>\n",
       "                        <td id=\"T_c5e07bc2_559c_11f0_a617_ce551f84775arow4_col0\" class=\"data row4 col0\" >2010-01-02 00:00:00</td>\n",
       "                        <td id=\"T_c5e07bc2_559c_11f0_a617_ce551f84775arow4_col1\" class=\"data row4 col1\" >Hawker Beechcraft Corp. 200</td>\n",
       "                        <td id=\"T_c5e07bc2_559c_11f0_a617_ce551f84775arow4_col2\" class=\"data row4 col2\" >Hawker Beechcraft Corp.</td>\n",
       "                        <td id=\"T_c5e07bc2_559c_11f0_a617_ce551f84775arow4_col3\" class=\"data row4 col3\" >200</td>\n",
       "                        <td id=\"T_c5e07bc2_559c_11f0_a617_ce551f84775arow4_col4\" class=\"data row4 col4\" >Airplane</td>\n",
       "                        <td id=\"T_c5e07bc2_559c_11f0_a617_ce551f84775arow4_col5\" class=\"data row4 col5\" >Non-Fatal</td>\n",
       "                        <td id=\"T_c5e07bc2_559c_11f0_a617_ce551f84775arow4_col6\" class=\"data row4 col6\" >0.000000</td>\n",
       "                        <td id=\"T_c5e07bc2_559c_11f0_a617_ce551f84775arow4_col7\" class=\"data row4 col7\" >0.000000</td>\n",
       "                        <td id=\"T_c5e07bc2_559c_11f0_a617_ce551f84775arow4_col8\" class=\"data row4 col8\" >0.000000</td>\n",
       "                        <td id=\"T_c5e07bc2_559c_11f0_a617_ce551f84775arow4_col9\" class=\"data row4 col9\" >6.000000</td>\n",
       "                        <td id=\"T_c5e07bc2_559c_11f0_a617_ce551f84775arow4_col10\" class=\"data row4 col10\" >nan</td>\n",
       "                        <td id=\"T_c5e07bc2_559c_11f0_a617_ce551f84775arow4_col11\" class=\"data row4 col11\" >Minor</td>\n",
       "                        <td id=\"T_c5e07bc2_559c_11f0_a617_ce551f84775arow4_col12\" class=\"data row4 col12\" >20100714X13546</td>\n",
       "            </tr>\n",
       "    </tbody></table>"
      ],
      "text/plain": [
       "<pandas.io.formats.style.Styler at 0x7fe6e97e9880>"
      ]
     },
     "metadata": {},
     "output_type": "display_data"
    }
   ],
   "source": [
    "# Display cleaned dataset\n",
    "display(df.head().style.set_properties(**{\n",
    "    'font-family': 'Poppins',\n",
    "    'font-size': '12px',\n",
    "    'background-color': '#f9f9f9',\n",
    "    'border': '1px solid #eee'\n",
    "}).set_table_styles([{\n",
    "    'selector': 'th',\n",
    "    'props': [('background-color', '#1a5276'), ('color', 'white'), ('font-weight', '600')]\n",
    "}]))"
   ]
  },
  {
   "cell_type": "markdown",
   "metadata": {},
   "source": [
    "## <span style=\"color: #1f77b4;\">Step 2: Imputation</span>\n",
    "\n",
    "Missing values are handled using median for numerical columns (e.g., injuries) and 'Unknown' for categorical columns (e.g., `aircraft_make`, `aircraft_model`) to ensure robust analysis."
   ]
  },
  {
   "cell_type": "code",
   "execution_count": 20,
   "metadata": {},
   "outputs": [
    {
     "data": {
      "text/html": [
       "<div class=\"monalisa-quote\">Refining the cleaned dataset into a polished analysis-ready format</div>"
      ],
      "text/plain": [
       "<IPython.core.display.HTML object>"
      ]
     },
     "metadata": {},
     "output_type": "display_data"
    },
    {
     "data": {
      "text/html": [
       "<div class=\"monalisa-highlight\">✓ Imputed total_fatal_injuries with median value: 0.0</div>"
      ],
      "text/plain": [
       "<IPython.core.display.HTML object>"
      ]
     },
     "metadata": {},
     "output_type": "display_data"
    },
    {
     "data": {
      "text/html": [
       "<div class=\"monalisa-highlight\">✓ Imputed total_serious_injuries with median value: 0.0</div>"
      ],
      "text/plain": [
       "<IPython.core.display.HTML object>"
      ]
     },
     "metadata": {},
     "output_type": "display_data"
    },
    {
     "data": {
      "text/html": [
       "<div class=\"monalisa-highlight\">✓ Imputed total_minor_injuries with median value: 0.0</div>"
      ],
      "text/plain": [
       "<IPython.core.display.HTML object>"
      ]
     },
     "metadata": {},
     "output_type": "display_data"
    },
    {
     "data": {
      "text/html": [
       "<div class=\"monalisa-highlight\">✓ Imputed total_uninjured with median value: 1.0</div>"
      ],
      "text/plain": [
       "<IPython.core.display.HTML object>"
      ]
     },
     "metadata": {},
     "output_type": "display_data"
    }
   ],
   "source": [
    "display_quote(\"Refining the cleaned dataset into a polished analysis-ready format\")\n",
    "# ---------------------\n",
    "# Impute numerical columns with median\n",
    "numeric_cols = ['total_fatal_injuries', 'total_serious_injuries', 'total_minor_injuries', 'total_uninjured']\n",
    "for col in numeric_cols:\n",
    "    df[col] = df[col].fillna(df[col].median())\n",
    "    display_highlight(f\"✓ Imputed {col} with median value: {df[col].median()}\")\n"
   ]
  },
  {
   "cell_type": "code",
   "execution_count": 15,
   "metadata": {},
   "outputs": [
    {
     "data": {
      "text/html": [
       "<div class=\"monalisa-highlight\">✓ Imputed aircraft with 'Unknown'</div>"
      ],
      "text/plain": [
       "<IPython.core.display.HTML object>"
      ]
     },
     "metadata": {},
     "output_type": "display_data"
    },
    {
     "data": {
      "text/html": [
       "<div class=\"monalisa-highlight\">✓ Imputed aircraft_category with 'Unknown'</div>"
      ],
      "text/plain": [
       "<IPython.core.display.HTML object>"
      ]
     },
     "metadata": {},
     "output_type": "display_data"
    },
    {
     "data": {
      "text/html": [
       "<div class=\"monalisa-highlight\">✓ Imputed injury_severity with 'Unknown'</div>"
      ],
      "text/plain": [
       "<IPython.core.display.HTML object>"
      ]
     },
     "metadata": {},
     "output_type": "display_data"
    },
    {
     "data": {
      "text/html": [
       "<div class=\"monalisa-highlight\">✓ Imputed broad_phase_of_flight with 'Unknown'</div>"
      ],
      "text/plain": [
       "<IPython.core.display.HTML object>"
      ]
     },
     "metadata": {},
     "output_type": "display_data"
    },
    {
     "data": {
      "text/html": [
       "<div class=\"monalisa-highlight\">✓ Imputed aircraft_damage with 'Unknown'</div>"
      ],
      "text/plain": [
       "<IPython.core.display.HTML object>"
      ]
     },
     "metadata": {},
     "output_type": "display_data"
    }
   ],
   "source": [
    "# Impute categorical columns with 'Unknown'\n",
    "categorical_cols = ['aircraft', 'aircraft_category', 'injury_severity', 'broad_phase_of_flight', 'aircraft_damage']\n",
    "for col in categorical_cols:\n",
    "    df[col] = df[col].fillna('Unknown')\n",
    "    display_highlight(f\"✓ Imputed {col} with 'Unknown'\")\n"
   ]
  },
  {
   "cell_type": "code",
   "execution_count": 16,
   "metadata": {},
   "outputs": [
    {
     "data": {
      "text/html": [
       "<div class=\"monalisa-warning\">Missing Values After Imputation:</div>"
      ],
      "text/plain": [
       "<IPython.core.display.HTML object>"
      ]
     },
     "metadata": {},
     "output_type": "display_data"
    },
    {
     "data": {
      "text/html": [
       "<style  type=\"text/css\" >\n",
       "    #T_c5eb1aaa_559c_11f0_a617_ce551f84775a th {\n",
       "          background-color: #1a5276;\n",
       "          color: white;\n",
       "          font-weight: 600;\n",
       "    }#T_c5eb1aaa_559c_11f0_a617_ce551f84775arow0_col0,#T_c5eb1aaa_559c_11f0_a617_ce551f84775arow1_col0{\n",
       "            font-family:  Poppins;\n",
       "            font-size:  12px;\n",
       "            background-color:  #f9f9f9;\n",
       "            border:  1px solid #eee;\n",
       "        }</style><table id=\"T_c5eb1aaa_559c_11f0_a617_ce551f84775a\" ><thead>    <tr>        <th class=\"blank level0\" ></th>        <th class=\"col_heading level0 col0\" >Missing Values</th>    </tr></thead><tbody>\n",
       "                <tr>\n",
       "                        <th id=\"T_c5eb1aaa_559c_11f0_a617_ce551f84775alevel0_row0\" class=\"row_heading level0 row0\" >make</th>\n",
       "                        <td id=\"T_c5eb1aaa_559c_11f0_a617_ce551f84775arow0_col0\" class=\"data row0 col0\" >1</td>\n",
       "            </tr>\n",
       "            <tr>\n",
       "                        <th id=\"T_c5eb1aaa_559c_11f0_a617_ce551f84775alevel0_row1\" class=\"row_heading level0 row1\" >model</th>\n",
       "                        <td id=\"T_c5eb1aaa_559c_11f0_a617_ce551f84775arow1_col0\" class=\"data row1 col0\" >8</td>\n",
       "            </tr>\n",
       "    </tbody></table>"
      ],
      "text/plain": [
       "<pandas.io.formats.style.Styler at 0x7fe6e5b2c730>"
      ]
     },
     "metadata": {},
     "output_type": "display_data"
    }
   ],
   "source": [
    "# Verify missing values\n",
    "missing_after = df.isnull().sum()\n",
    "display_warning(\"Missing Values After Imputation:\")\n",
    "display(missing_after[missing_after > 0].to_frame('Missing Values').style.set_properties(**{\n",
    "    'font-family': 'Poppins',\n",
    "    'font-size': '12px',\n",
    "    'background-color': '#f9f9f9',\n",
    "    'border': '1px solid #eee'\n",
    "}).set_table_styles([{\n",
    "    'selector': 'th',\n",
    "    'props': [('background-color', '#1a5276'), ('color', 'white'), ('font-weight', '600')]\n",
    "}]))"
   ]
  },
  {
   "cell_type": "markdown",
   "metadata": {},
   "source": [
    "## <span style=\"color: #1f77b4;\">Step 3: Data Analysis</span>\n",
    "\n",
    "We aggregate accidents and injuries by aircraft type, calculate injury rates, and analyze accident patterns by flight phase to identify low-risk aircraft."
   ]
  },
  {
   "cell_type": "markdown",
   "metadata": {},
   "source": [
    "## <span style=\"color: #1f77b4;\">Step 4: Visualizations</span>\n",
    "\n",
    "Three visualizations support our recommendations:\n",
    "- <span style=\"color: #ff7f0e;\">Bar Chart</span>: Top 10 aircraft by accident count.\n",
    "- <span style=\"color: #ff7f0e;\">Line Graph</span>: Accident trends over time.\n",
    "- <span style=\"color: #ff7f0e;\">Scatter Plot</span>: Accident count vs. injury rate."
   ]
  },
  {
   "cell_type": "markdown",
   "metadata": {},
   "source": [
    "## <span style=\"color: #1f77b4;\">Step 5: Business Recommendations</span>\n",
    "\n",
    "The following recommendations are based on our analysis to guide aircraft purchasing decisions for minimal risk."
   ]
  },
  {
   "cell_type": "markdown",
   "metadata": {},
   "source": []
  },
  {
   "cell_type": "markdown",
   "metadata": {},
   "source": [
    "# <span style=\"color: #1f77b4;\">Conclusion</span>\n",
    "\n",
    "Our analysis identifies low-risk aircraft by examining accident counts, injury rates, and temporal trends. The recommendations prioritize safety and are supported by visualizations and an interactive Tableau dashboard. For further details, contact <span style=\"color: #2ca02c;\">[Your Name] on LinkedIn</span>."
   ]
  }
 ],
 "metadata": {
  "kernelspec": {
   "display_name": "Python 3",
   "language": "python",
   "name": "python3"
  },
  "language_info": {
   "codemirror_mode": {
    "name": "ipython",
    "version": 3
   },
   "file_extension": ".py",
   "mimetype": "text/x-python",
   "name": "python",
   "nbconvert_exporter": "python",
   "pygments_lexer": "ipython3",
   "version": "3.8.5"
  }
 },
 "nbformat": 4,
 "nbformat_minor": 5
}
